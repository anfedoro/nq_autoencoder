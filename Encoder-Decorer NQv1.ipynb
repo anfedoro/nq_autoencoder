{
 "cells": [
  {
   "cell_type": "markdown",
   "metadata": {},
   "source": [
    "##### The Encoder-decoder goal is to build a candle classification dictionary for futher LLM\n",
    "It encodes and decodes <b>normalized candles</b> as there is no goal yet to reproduce price move direction/distance or even correct candle height.\n",
    "This is next step to be implemented with LLM-kind of model, where <i>candles will be considered as alphabet characters</i> and series of candles are words, sentences and chapters for price action poeme :-) "
   ]
  },
  {
   "cell_type": "code",
   "execution_count": 3,
   "metadata": {},
   "outputs": [],
   "source": [
    "import torch\n",
    "from torch import nn\n",
    "import pandas as pd\n",
    "import numpy as np\n",
    "import matplotlib.pyplot as plt\n",
    "import os.path\n",
    "\n"
   ]
  },
  {
   "cell_type": "code",
   "execution_count": 498,
   "metadata": {},
   "outputs": [
    {
     "data": {
      "text/html": [
       "<div>\n",
       "<style scoped>\n",
       "    .dataframe tbody tr th:only-of-type {\n",
       "        vertical-align: middle;\n",
       "    }\n",
       "\n",
       "    .dataframe tbody tr th {\n",
       "        vertical-align: top;\n",
       "    }\n",
       "\n",
       "    .dataframe thead th {\n",
       "        text-align: right;\n",
       "    }\n",
       "</style>\n",
       "<table border=\"1\" class=\"dataframe\">\n",
       "  <thead>\n",
       "    <tr style=\"text-align: right;\">\n",
       "      <th></th>\n",
       "      <th>open</th>\n",
       "      <th>high</th>\n",
       "      <th>low</th>\n",
       "      <th>close</th>\n",
       "    </tr>\n",
       "  </thead>\n",
       "  <tbody>\n",
       "    <tr>\n",
       "      <th>2023-03-13 04:00:00+00:00</th>\n",
       "      <td>12177.25</td>\n",
       "      <td>12179.00</td>\n",
       "      <td>12177.25</td>\n",
       "      <td>12179.00</td>\n",
       "    </tr>\n",
       "    <tr>\n",
       "      <th>2023-03-13 04:00:15+00:00</th>\n",
       "      <td>12179.00</td>\n",
       "      <td>12179.25</td>\n",
       "      <td>12179.00</td>\n",
       "      <td>12179.25</td>\n",
       "    </tr>\n",
       "    <tr>\n",
       "      <th>2023-03-13 04:00:30+00:00</th>\n",
       "      <td>12181.25</td>\n",
       "      <td>12181.25</td>\n",
       "      <td>12180.25</td>\n",
       "      <td>12180.75</td>\n",
       "    </tr>\n",
       "    <tr>\n",
       "      <th>2023-03-13 04:00:45+00:00</th>\n",
       "      <td>12179.50</td>\n",
       "      <td>12179.75</td>\n",
       "      <td>12179.25</td>\n",
       "      <td>12179.75</td>\n",
       "    </tr>\n",
       "    <tr>\n",
       "      <th>2023-03-13 04:01:00+00:00</th>\n",
       "      <td>12180.00</td>\n",
       "      <td>12181.75</td>\n",
       "      <td>12180.00</td>\n",
       "      <td>12180.50</td>\n",
       "    </tr>\n",
       "  </tbody>\n",
       "</table>\n",
       "</div>"
      ],
      "text/plain": [
       "                               open      high       low     close\n",
       "2023-03-13 04:00:00+00:00  12177.25  12179.00  12177.25  12179.00\n",
       "2023-03-13 04:00:15+00:00  12179.00  12179.25  12179.00  12179.25\n",
       "2023-03-13 04:00:30+00:00  12181.25  12181.25  12180.25  12180.75\n",
       "2023-03-13 04:00:45+00:00  12179.50  12179.75  12179.25  12179.75\n",
       "2023-03-13 04:01:00+00:00  12180.00  12181.75  12180.00  12180.50"
      ]
     },
     "metadata": {},
     "output_type": "display_data"
    },
    {
     "name": "stdout",
     "output_type": "stream",
     "text": [
      "Candle dataset shape: (354167, 4)\n"
     ]
    }
   ],
   "source": [
    "#Import NQ futures candles dataset\n",
    "dataset = './data/nqh23_15sec.csv'\n",
    "tick_data = './data/NQ 06-23.Last.csv'\n",
    "if os.path.isfile(dataset):\n",
    "    df1 = pd.read_csv(dataset)\n",
    "\n",
    "else:\n",
    "    header = ('date','last')\n",
    "    df = pd.read_csv(tick_data, delimiter=';', usecols=[0,1], header=None, names=header)\n",
    "    df['date'] = pd.to_datetime(df['date'], format='%Y%m%d %H%M%S %f', utc = True)\n",
    "    df1 = df.resample(\"15s\", on = 'date',).ohlc()['last']\n",
    "    df1.dropna(inplace=True)\n",
    "    df1.to_csv(dataset)\n",
    "\n",
    "\n",
    "df1.set_index('date',inplace=True)\n",
    "df1.index.name = None\n",
    "display(df1.head())\n",
    "print(f\"Candle dataset shape: {df1.shape}\")\n"
   ]
  },
  {
   "cell_type": "code",
   "execution_count": 16,
   "metadata": {},
   "outputs": [],
   "source": [
    "# My own Normalisation function. the only reason I use them is I can easie reproduce them in TradingView Pinescript, \n",
    "# while e.g Pytorch nn.instanceNorm1d, gives sllughtly different result. But technically there is no differece which one to use here.\n",
    "def MinMaxNorm(x: torch.Tensor, dim = None, shift = False):\n",
    "\n",
    "    r'''MinMax Normalization function, normalize values in (0,1) range.\n",
    "\n",
    "    dim - dimentions setting, \n",
    "    where None - for global normalization, 1 - for per instance normalizaton and 0 - per feature normalization\n",
    "    shif = True shifts all values agains candle Open'''\n",
    "\n",
    "    if dim == None:\n",
    "        return (x - x.min())/(x.max() - x.min())\n",
    "    elif dim == 1:\n",
    "        if shift:\n",
    "            norm_x = (torch.nan_to_num((x - x.min(dim).values.view(-1,1))/(x.max(dim).values - x.min(dim).values).view(-1,1),0))\n",
    "            return  norm_x - norm_x[:,0].view(-1,1) \n",
    "        else:\n",
    "            return torch.nan_to_num((x - x.min(dim).values.view(-1,1))/(x.max(dim).values - x.min(dim).values).view(-1,1),0)\n",
    "        \n",
    "    elif dim == 0:\n",
    "        return (x - x.min(dim).values)/(x.max(dim).values - x.min(dim).values)\n",
    "\n",
    "    \n",
    "\n",
    "def StandardNorm(x: torch.Tensor, dim = None):\n",
    "\n",
    "    r'''Standard Normalization function, normalize values in (0,1) range.\n",
    "\n",
    "    dim - dimentions setting, \n",
    "    where None - for global normalization, 1 - for per instance normalizaton and 0 - per feature normalization'''\n",
    "\n",
    "    if dim == None:\n",
    "        return (x - x.mean())/(x.std())\n",
    "    elif dim ==1:\n",
    "        return (x - x.mean(dim).reshape(-1,1))/(x.std(dim).reshape(-1,1))\n",
    "    else:\n",
    "        return (x - x.mean(dim))/(x.std(dim))\n",
    "\n"
   ]
  },
  {
   "cell_type": "code",
   "execution_count": 499,
   "metadata": {},
   "outputs": [],
   "source": [
    "# in addition to Loss control< good to use a candle decode accuracyEncode-Decode accuracy calculation function\n",
    "\n",
    "def accuracy(actual:torch.Tensor, pred:torch.Tensor, precision):\n",
    "    return (torch.isclose(actual, pred, precision, precision).sum().item()/ (pred.shape[0] * pred.shape[1]))\n"
   ]
  },
  {
   "cell_type": "code",
   "execution_count": 500,
   "metadata": {},
   "outputs": [
    {
     "data": {
      "text/plain": [
       "tensor([[12177.2500, 12179.0000, 12177.2500, 12179.0000],\n",
       "        [12179.0000, 12179.2500, 12179.0000, 12179.2500],\n",
       "        [12181.2500, 12181.2500, 12180.2500, 12180.7500],\n",
       "        ...,\n",
       "        [14864.5000, 14866.0000, 14864.5000, 14866.0000],\n",
       "        [14866.7500, 14867.0000, 14866.5000, 14866.5000],\n",
       "        [14867.2500, 14867.2500, 14865.0000, 14866.2500]])"
      ]
     },
     "execution_count": 500,
     "metadata": {},
     "output_type": "execute_result"
    }
   ],
   "source": [
    "#pick 10K candles as traning sample and conver to torch tensor\n",
    "\n",
    "candles_sample = torch.tensor(df1.iloc[:].values,dtype=torch.float)\n",
    "candles_sample\n"
   ]
  },
  {
   "cell_type": "code",
   "execution_count": 584,
   "metadata": {},
   "outputs": [],
   "source": [
    "# Function which generate series of dots, reflecting price flow while a candle shapes.\n",
    "# The assumption is that for GREEN candle the price moves as open->low->high->close \n",
    "# and for RED the price moves as open->high->low->close \n",
    "# Function returns a tensor with 30 priceing dots\n",
    "\n",
    "def CandlePriceFlow(sample : torch.Tensor):\n",
    "    cdl = sample.clone()\n",
    "    step1 = torch.where(cdl[:,0] <= cdl[:,3], cdl[:,2], cdl[:,1])\n",
    "    step2 = torch.where(cdl[:,0] <= cdl[:,3], cdl[:,1], cdl[:,2])\n",
    "    #converting high-low sequence for green candles\n",
    "    cdl[:,1] = step1\n",
    "    cdl[:,2] = step2\n",
    "    \n",
    "    # create three lines for price flow: open-low, low-high, high-close (this is for green candle, for red is similar)\n",
    "\n",
    "    y = torch.concatenate([cdl[:,:2],cdl[:,1:3],cdl[:,2:4]],dim=1)\n",
    "    x = torch.zeros((1,6))\n",
    "    for i in range(3):\n",
    "        x[0,i*2:i*2+2] = torch.tensor([i*10,(i+1)*10])\n",
    "\n",
    "    #create empty a and b variables tensors for linear equation a * x + b for for price move sloap.\n",
    "\n",
    "    a = torch.zeros((len(y),3))\n",
    "    b = torch.zeros((len(y),3))\n",
    "    # calculate three sets of a,b variblesfor three price move sloap\n",
    "\n",
    "    for i in range(3):\n",
    "        a[:,i] = (y[:,i*2+1]-y[:,i*2]) * (x[:,i*2+1]-x[:,i*2]) ** -1\n",
    "        b[:,i] = (x[:,i*2+1]*y[:,i*2] -  y[:,i*2+1]*x[:,i*2]) * (x[:,i*2+1]-x[:,i*2]) ** -1\n",
    "    \n",
    "    x = torch.arange(0,30,dtype=torch.float).reshape(3,-1)\n",
    "    \n",
    "    # calculate price  numbers, 10 for for each of price move sloap and merge in a single tensor with size [number_of_candles,30]\n",
    "    \n",
    "    return  torch.concat([a[:,0].view(-1,1) @ x[0].view(1,-1) + b[:,0].view(-1,1),\n",
    "                a[:,1].view(-1,1) @ x[1].view(1,-1) + b[:,1].view(-1,1),\n",
    "                a[:,2].view(-1,1) @ x[2].view(1,-1) + b[:,2].view(-1,1)],dim=1)"
   ]
  },
  {
   "cell_type": "code",
   "execution_count": 501,
   "metadata": {},
   "outputs": [
    {
     "data": {
      "text/plain": [
       "tensor([[0.0000, 1.0000, 0.0000, 1.0000],\n",
       "        [0.0000, 1.0000, 0.0000, 1.0000],\n",
       "        [1.0000, 1.0000, 0.0000, 0.5000],\n",
       "        ...,\n",
       "        [0.0000, 1.0000, 0.0000, 1.0000],\n",
       "        [0.5000, 1.0000, 0.0000, 0.0000],\n",
       "        [1.0000, 1.0000, 0.0000, 0.5556]])"
      ]
     },
     "execution_count": 501,
     "metadata": {},
     "output_type": "execute_result"
    }
   ],
   "source": [
    "#normalize traning set of candles as encode-decode sample\n",
    "\n",
    "candles_norm = MinMaxNorm((candles_sample),1)\n",
    "candles_norm\n",
    "\n",
    "\n"
   ]
  },
  {
   "cell_type": "code",
   "execution_count": 502,
   "metadata": {},
   "outputs": [],
   "source": [
    "# Enc-Dec NN model definition. This is rather simple Linear with one hidden layer and Softmax activation \n",
    "# to get candles class codes (set of 10 candle features probabilities)\n",
    "# Trained Encoder half of the model can be used later on for quick canldes classification.\n",
    "# self.label is out put of the ecoder, which is indeed a candle class code\n",
    "\n",
    "class CandleClassifier(nn.Module):\n",
    "    def __init__(self):\n",
    "        super().__init__()\n",
    "       \n",
    "    #encoding layers\n",
    "        self.seq1 = nn.Sequential(\n",
    "            nn.Linear(4,16),\n",
    "            nn.ReLU(),\n",
    "            nn.Linear(16,2),\n",
    "            nn.ReLU()\n",
    "            )\n",
    "\n",
    "    #decoding layers    \n",
    "        self.seq2 = nn.Sequential(\n",
    "            nn.Linear(2,16),\n",
    "            nn.ReLU(),\n",
    "            nn.Linear(16,4),\n",
    "            nn.Sigmoid()\n",
    "        )\n",
    "        \n",
    "\n",
    "    def forward(self, x):\n",
    "        self.label = (self.seq1(x))\n",
    "        return self.seq2(self.label)\n"
   ]
  },
  {
   "cell_type": "code",
   "execution_count": 505,
   "metadata": {},
   "outputs": [
    {
     "name": "stdout",
     "output_type": "stream",
     "text": [
      "Epoch: 0 | Loss: 0.7058794498443604 | Accuracy: 0.02%\n",
      "\n",
      "Epoch: 883 | Loss: 0.16059400141239166 | Accuracy: 49.62%\n"
     ]
    },
    {
     "data": {
      "text/plain": [
       "Text(0.5, 1.0, 'Traning accuracy')"
      ]
     },
     "execution_count": 505,
     "metadata": {},
     "output_type": "execute_result"
    },
    {
     "data": {
      "image/png": "[encoded data removed]",
      "text/plain": [
       "<Figure size 1200x300 with 2 Axes>"
      ]
     },
     "metadata": {},
     "output_type": "display_data"
    }
   ],
   "source": [
    "#Encode-Decode Traning loop\n",
    "\n",
    "torch.manual_seed(2345163)\n",
    "loss_plt = []\n",
    "acc_plt = []\n",
    "model0 = CandleClassifier()\n",
    "\n",
    "epochs = 884\n",
    "model0 = model0.to(\"cpu\")\n",
    "candles_norm = candles_norm.to('cpu')\n",
    "loss_fn =  nn.BCELoss()\n",
    "optimizer = torch.optim.Adam(model0.parameters(), lr = 0.04, weight_decay=1e-4) # Adam optimizer was choosen insted of SGD due convergency issues with SGD\n",
    "\n",
    "      \n",
    "for epoch in range(epochs):\n",
    "\n",
    "    #set train mode\n",
    "    model0.train()\n",
    "\n",
    "    #forward pass\n",
    "    out = model0(candles_norm)\n",
    "    \n",
    "    #loss and accuracy calculation\n",
    "    loss = loss_fn(out, candles_norm)\n",
    "    acc = accuracy(out, candles_norm, 1e-3)\n",
    "    \n",
    "    optimizer.zero_grad()\n",
    "    loss.backward()\n",
    "    optimizer.step()\n",
    "    \n",
    "    #calculate and collect loss and accucary values through the traning fot further plot and print\n",
    "    if epoch % 1 == 0:\n",
    "        loss_plt.append(loss.item())\n",
    "        acc_plt.append(acc)\n",
    "    if epoch % (epochs/10) == 0:\n",
    "        print(f\"Epoch: {epoch} | Loss: {loss} | Accuracy: %.2f\" % (acc*100)+\"%\")\n",
    "    #Break the traning loop in case the accuracy 99% is achieved    \n",
    "    # if acc > 0.50 or loss < 0.37146:\n",
    "    #     break\n",
    "\n",
    "\n",
    "#adding final Loss and accucacy    \n",
    "loss_plt.append(loss.item())\n",
    "acc_plt.append(acc)\n",
    "print(f\"\\nEpoch: {epoch} | Loss: {loss} | Accuracy: %.2f\" % (acc*100)+\"%\")\n",
    "\n",
    "#Plot loss function and accuracy change through the traning\n",
    "plt.figure(figsize=(12,3))\n",
    "plt.subplot(121)\n",
    "plt.plot(loss_plt)\n",
    "plt.scatter(x=loss_plt.index(min(loss_plt)),y=min(loss_plt),color='red', marker='.')\n",
    "plt.title('Traning loss function')\n",
    "\n",
    "plt.subplot(122)\n",
    "plt.plot(acc_plt, color='orange')\n",
    "plt.title('Traning accuracy')"
   ]
  },
  {
   "cell_type": "code",
   "execution_count": 506,
   "metadata": {},
   "outputs": [
    {
     "data": {
      "text/plain": [
       "(883, 0.16059400141239166, 800, 0.5028538796669367)"
      ]
     },
     "execution_count": 506,
     "metadata": {},
     "output_type": "execute_result"
    }
   ],
   "source": [
    "loss_plt.index(min(loss_plt)),min(loss_plt), acc_plt.index(max(acc_plt)),max(acc_plt)"
   ]
  },
  {
   "cell_type": "code",
   "execution_count": 281,
   "metadata": {},
   "outputs": [
    {
     "data": {
      "image/png": "[encoded data removed]",
      "text/plain": [
       "<Figure size 1600x800 with 50 Axes>"
      ]
     },
     "metadata": {},
     "output_type": "display_data"
    }
   ],
   "source": [
    "#plot example of 50 candles labels(classes) (kind of candle class code. )\n",
    "#These candles are plotted in the next notebook cell\n",
    "\n",
    "plt.figure(figsize=(16,8))\n",
    "plt.rcParams.update({'font.size': 6})\n",
    "#y = torch.tensor(list(enumerate(model0.label[1000:1050].cpu().detach().numpy())))[:,1]\n",
    "for i in range(0,50,1):\n",
    "\n",
    "#    print(f\"Candle {i}: {y[i].item(): .3f} | Candle {i+1}: {y[i+1].item(): .3f} | Candle {i+2}: {y[i+2].item(): .3f} | Candle {i+3}: {y[i+3].item(): .3f} | Candle {i+4}: {y[i+4].item(): .3f} \")\n",
    "    \n",
    "    plt.subplot(5,10,i+1)\n",
    "    plt.title(f'Candle #{i}')\n",
    "    x = torch.tensor(list(enumerate(model0.label[1000+i].cpu().detach().numpy())))[:,0]\n",
    "    y = torch.round(torch.tensor(list(enumerate(model0.label[1000+i].cpu().detach().numpy())))[:,1])\n",
    "    plt.bar(x,y)\n",
    "\n"
   ]
  },
  {
   "cell_type": "code",
   "execution_count": null,
   "metadata": {},
   "outputs": [],
   "source": [
    "#Plot candle price flow\n",
    "plt.figure(figsize=(16,10))\n",
    "for i in range(50):\n",
    "    plt.subplot(5,10,i+1)\n",
    "    plt.title(f'Candle #{i}')\n",
    "    plt.plot(candles_norm[1000+i].cpu().detach().numpy())\n",
    "    plt.plot(out[1000+i].cpu().detach().numpy(), alpha=0.7)\n"
   ]
  },
  {
   "cell_type": "code",
   "execution_count": 18,
   "metadata": {},
   "outputs": [],
   "source": [
    "##Function to plot candles from the dataset generated based on prediction\n",
    "def plot_sample(sample):\n",
    "    import plotly.graph_objects as go\n",
    "\n",
    "    cdl_data = pd.DataFrame(sample, columns=('open','high','low','close') )\n",
    "\n",
    "    fig = go.Figure(data=[go.Candlestick(x=cdl_data.index,\n",
    "                    open=cdl_data['open'], high=cdl_data['high'],\n",
    "                    low=cdl_data['low'], close=cdl_data['close'])\n",
    "                        ])\n",
    "\n",
    "    # fig.add_trace(\n",
    "    #     go.Scatter(\n",
    "    #         x=cdl_data.index,\n",
    "    #         y=cdl_data['high'],\n",
    "    #         mode= \"text\",\n",
    "            \n",
    "    #         text = cdl_data['class'],\n",
    "    #         textposition = 'top center',\n",
    "    #         textfont = {'size':8}))\n",
    "\n",
    "    fig.update_layout(xaxis_rangeslider_visible=False)\n",
    "    fig.show()"
   ]
  },
  {
   "cell_type": "code",
   "execution_count": 507,
   "metadata": {},
   "outputs": [
    {
     "data": {
      "application/vnd.plotly.v1+json": {
       "config": {
        "plotlyServerURL": "https://plot.ly"
       },
       "data": [
        {
         "close": [
          0.22417941689491272,
          0.5243338942527771,
          0.32236236333847046,
          0.9816672801971436,
          0.32275885343551636,
          0.5733383893966675,
          0.8963143825531006,
          0.0048304712399840355,
          0.13793642818927765,
          0.40274229645729065,
          0.07612400501966476,
          0.3232440948486328,
          0.32214200496673584,
          0.6777097582817078,
          0.00483598280698061,
          0.9634014368057251,
          0.1642286330461502,
          0.5620012283325195,
          0.004812444094568491,
          0.86729496717453,
          0.6090378165245056,
          0.5469033718109131,
          0.0048355949111282825,
          0.6781290769577026,
          0.24730105698108673,
          0.9816672801971436,
          0.025164321064949036,
          0.02929430641233921,
          0.8312090039253235,
          0.4220602512359619,
          0.004820785019546747,
          0.3908326029777527,
          0.6505944132804871,
          0.9670943021774292,
          0.1598832756280899,
          0.004827162250876427,
          0.004836230538785458,
          0.5807435512542725,
          0.20754767954349518,
          0.7727978229522705,
          0.864797830581665,
          0.9695714116096497,
          0.7295553088188171,
          0.009034266695380211,
          0.9576278924942017,
          0.9318862557411194,
          0.3001019358634949,
          0.5807493925094604,
          0.36956819891929626,
          0.50179123878479
         ],
         "high": [
          1,
          1,
          1,
          1,
          1,
          1,
          1,
          1,
          1,
          1,
          1,
          0.9999998807907104,
          1,
          1,
          1,
          1,
          1,
          0.9999942779541016,
          0.999634861946106,
          1,
          1,
          1,
          1,
          1,
          1,
          1,
          0.9998316764831543,
          1,
          1,
          1,
          0.9999979734420776,
          1,
          1,
          0.9999810457229614,
          1,
          1,
          1,
          0.999958872795105,
          1,
          0.9999513626098633,
          1,
          0.9999816417694092,
          1,
          1,
          0.9999997615814209,
          1,
          1,
          0.9999973773956299,
          0.9999717473983765,
          0.9999972581863403
         ],
         "low": [
          3.3338099569846236e-7,
          5.426934990282462e-7,
          0.0000013495750863512512,
          2.8824410946981516e-7,
          0.000004444464138941839,
          0.000006837185992480954,
          0.000003372317678440595,
          0.000004852084202866536,
          7.159598567341163e-7,
          4.967569680047745e-7,
          5.645347300742287e-7,
          0.000019074959709541872,
          6.960324299143394e-7,
          1.853511122362761e-7,
          0.0000011286130074950051,
          9.354346843792882e-7,
          0.0000010661816531865043,
          0.00006403319275705144,
          0.0005810288130305707,
          1.3118474306850203e-8,
          4.512489581998125e-8,
          0.0000016841038359416416,
          0.0000012503046491474379,
          6.54254392884468e-7,
          0.000005664147920469986,
          2.8824410946981516e-7,
          0.0005377070046961308,
          7.29840053281805e-7,
          0.000001279039565815765,
          0.000010481662684469484,
          0.0000633489980828017,
          0.000003122843281744281,
          3.651357260991972e-8,
          0.000009543326086713932,
          0.000021620726329274476,
          0.00001167906157206744,
          0.0000010598324706734275,
          0.00006934690463822335,
          6.369197080857703e-7,
          0.000027381196559872478,
          0.0000026205661924905144,
          0.000009200628483085893,
          3.3396142384845007e-7,
          8.065420047387306e-7,
          0.000007426562660839409,
          4.3251578318859174e-8,
          6.256319124986476e-7,
          0.000047632336645619944,
          0.00017660934827290475,
          0.00005753911318606697
         ],
         "open": [
          0.9483387470245361,
          0.8114479184150696,
          0.8175141215324402,
          0.5349344611167908,
          0.6560323238372803,
          0.37388017773628235,
          0.2522886395454407,
          0.8315927386283875,
          0.9443410634994507,
          0.8729430437088013,
          0.9644766449928284,
          0.4017849564552307,
          0.8780403733253479,
          0.8450345993041992,
          0.9445950984954834,
          0.3787113130092621,
          0.915916383266449,
          0.09720787405967712,
          0.07803346961736679,
          0.9515343904495239,
          0.9504320025444031,
          0.6398717761039734,
          0.9398615956306458,
          0.6883768439292908,
          0.6853293180465698,
          0.5349344611167908,
          0.08223377168178558,
          0.9579901099205017,
          0.44397416710853577,
          0.42085200548171997,
          0.35754892230033875,
          0.6577654480934143,
          0.9506489634513855,
          0.005900971125811338,
          0.5592240691184998,
          0.7007015943527222,
          0.9473254084587097,
          0.025527888908982277,
          0.9260757565498352,
          0.008987662382423878,
          0.30646613240242004,
          0.0058150505647063255,
          0.7446042895317078,
          0.9566512703895569,
          0.1198757141828537,
          0.8702309727668762,
          0.8942530751228333,
          0.12690798938274384,
          0.07869259268045425,
          0.1416601836681366
         ],
         "type": "candlestick",
         "x": [
          0,
          1,
          2,
          3,
          4,
          5,
          6,
          7,
          8,
          9,
          10,
          11,
          12,
          13,
          14,
          15,
          16,
          17,
          18,
          19,
          20,
          21,
          22,
          23,
          24,
          25,
          26,
          27,
          28,
          29,
          30,
          31,
          32,
          33,
          34,
          35,
          36,
          37,
          38,
          39,
          40,
          41,
          42,
          43,
          44,
          45,
          46,
          47,
          48,
          49
         ]
        }
       ],
       "layout": {
        "template": {
         "data": {
          "bar": [
           {
            "error_x": {
             "color": "#2a3f5f"
            },
            "error_y": {
             "color": "#2a3f5f"
            },
            "marker": {
             "line": {
              "color": "#E5ECF6",
              "width": 0.5
             },
             "pattern": {
              "fillmode": "overlay",
              "size": 10,
              "solidity": 0.2
             }
            },
            "type": "bar"
           }
          ],
          "barpolar": [
           {
            "marker": {
             "line": {
              "color": "#E5ECF6",
              "width": 0.5
             },
             "pattern": {
              "fillmode": "overlay",
              "size": 10,
              "solidity": 0.2
             }
            },
            "type": "barpolar"
           }
          ],
          "carpet": [
           {
            "aaxis": {
             "endlinecolor": "#2a3f5f",
             "gridcolor": "white",
             "linecolor": "white",
             "minorgridcolor": "white",
             "startlinecolor": "#2a3f5f"
            },
            "baxis": {
             "endlinecolor": "#2a3f5f",
             "gridcolor": "white",
             "linecolor": "white",
             "minorgridcolor": "white",
             "startlinecolor": "#2a3f5f"
            },
            "type": "carpet"
           }
          ],
          "choropleth": [
           {
            "colorbar": {
             "outlinewidth": 0,
             "ticks": ""
            },
            "type": "choropleth"
           }
          ],
          "contour": [
           {
            "colorbar": {
             "outlinewidth": 0,
             "ticks": ""
            },
            "colorscale": [
             [
              0,
              "#0d0887"
             ],
             [
              0.1111111111111111,
              "#46039f"
             ],
             [
              0.2222222222222222,
              "#7201a8"
             ],
             [
              0.3333333333333333,
              "#9c179e"
             ],
             [
              0.4444444444444444,
              "#bd3786"
             ],
             [
              0.5555555555555556,
              "#d8576b"
             ],
             [
              0.6666666666666666,
              "#ed7953"
             ],
             [
              0.7777777777777778,
              "#fb9f3a"
             ],
             [
              0.8888888888888888,
              "#fdca26"
             ],
             [
              1,
              "#f0f921"
             ]
            ],
            "type": "contour"
           }
          ],
          "contourcarpet": [
           {
            "colorbar": {
             "outlinewidth": 0,
             "ticks": ""
            },
            "type": "contourcarpet"
           }
          ],
          "heatmap": [
           {
            "colorbar": {
             "outlinewidth": 0,
             "ticks": ""
            },
            "colorscale": [
             [
              0,
              "#0d0887"
             ],
             [
              0.1111111111111111,
              "#46039f"
             ],
             [
              0.2222222222222222,
              "#7201a8"
             ],
             [
              0.3333333333333333,
              "#9c179e"
             ],
             [
              0.4444444444444444,
              "#bd3786"
             ],
             [
              0.5555555555555556,
              "#d8576b"
             ],
             [
              0.6666666666666666,
              "#ed7953"
             ],
             [
              0.7777777777777778,
              "#fb9f3a"
             ],
             [
              0.8888888888888888,
              "#fdca26"
             ],
             [
              1,
              "#f0f921"
             ]
            ],
            "type": "heatmap"
           }
          ],
          "heatmapgl": [
           {
            "colorbar": {
             "outlinewidth": 0,
             "ticks": ""
            },
            "colorscale": [
             [
              0,
              "#0d0887"
             ],
             [
              0.1111111111111111,
              "#46039f"
             ],
             [
              0.2222222222222222,
              "#7201a8"
             ],
             [
              0.3333333333333333,
              "#9c179e"
             ],
             [
              0.4444444444444444,
              "#bd3786"
             ],
             [
              0.5555555555555556,
              "#d8576b"
             ],
             [
              0.6666666666666666,
              "#ed7953"
             ],
             [
              0.7777777777777778,
              "#fb9f3a"
             ],
             [
              0.8888888888888888,
              "#fdca26"
             ],
             [
              1,
              "#f0f921"
             ]
            ],
            "type": "heatmapgl"
           }
          ],
          "histogram": [
           {
            "marker": {
             "pattern": {
              "fillmode": "overlay",
              "size": 10,
              "solidity": 0.2
             }
            },
            "type": "histogram"
           }
          ],
          "histogram2d": [
           {
            "colorbar": {
             "outlinewidth": 0,
             "ticks": ""
            },
            "colorscale": [
             [
              0,
              "#0d0887"
             ],
             [
              0.1111111111111111,
              "#46039f"
             ],
             [
              0.2222222222222222,
              "#7201a8"
             ],
             [
              0.3333333333333333,
              "#9c179e"
             ],
             [
              0.4444444444444444,
              "#bd3786"
             ],
             [
              0.5555555555555556,
              "#d8576b"
             ],
             [
              0.6666666666666666,
              "#ed7953"
             ],
             [
              0.7777777777777778,
              "#fb9f3a"
             ],
             [
              0.8888888888888888,
              "#fdca26"
             ],
             [
              1,
              "#f0f921"
             ]
            ],
            "type": "histogram2d"
           }
          ],
          "histogram2dcontour": [
           {
            "colorbar": {
             "outlinewidth": 0,
             "ticks": ""
            },
            "colorscale": [
             [
              0,
              "#0d0887"
             ],
             [
              0.1111111111111111,
              "#46039f"
             ],
             [
              0.2222222222222222,
              "#7201a8"
             ],
             [
              0.3333333333333333,
              "#9c179e"
             ],
             [
              0.4444444444444444,
              "#bd3786"
             ],
             [
              0.5555555555555556,
              "#d8576b"
             ],
             [
              0.6666666666666666,
              "#ed7953"
             ],
             [
              0.7777777777777778,
              "#fb9f3a"
             ],
             [
              0.8888888888888888,
              "#fdca26"
             ],
             [
              1,
              "#f0f921"
             ]
            ],
            "type": "histogram2dcontour"
           }
          ],
          "mesh3d": [
           {
            "colorbar": {
             "outlinewidth": 0,
             "ticks": ""
            },
            "type": "mesh3d"
           }
          ],
          "parcoords": [
           {
            "line": {
             "colorbar": {
              "outlinewidth": 0,
              "ticks": ""
             }
            },
            "type": "parcoords"
           }
          ],
          "pie": [
           {
            "automargin": true,
            "type": "pie"
           }
          ],
          "scatter": [
           {
            "fillpattern": {
             "fillmode": "overlay",
             "size": 10,
             "solidity": 0.2
            },
            "type": "scatter"
           }
          ],
          "scatter3d": [
           {
            "line": {
             "colorbar": {
              "outlinewidth": 0,
              "ticks": ""
             }
            },
            "marker": {
             "colorbar": {
              "outlinewidth": 0,
              "ticks": ""
             }
            },
            "type": "scatter3d"
           }
          ],
          "scattercarpet": [
           {
            "marker": {
             "colorbar": {
              "outlinewidth": 0,
              "ticks": ""
             }
            },
            "type": "scattercarpet"
           }
          ],
          "scattergeo": [
           {
            "marker": {
             "colorbar": {
              "outlinewidth": 0,
              "ticks": ""
             }
            },
            "type": "scattergeo"
           }
          ],
          "scattergl": [
           {
            "marker": {
             "colorbar": {
              "outlinewidth": 0,
              "ticks": ""
             }
            },
            "type": "scattergl"
           }
          ],
          "scattermapbox": [
           {
            "marker": {
             "colorbar": {
              "outlinewidth": 0,
              "ticks": ""
             }
            },
            "type": "scattermapbox"
           }
          ],
          "scatterpolar": [
           {
            "marker": {
             "colorbar": {
              "outlinewidth": 0,
              "ticks": ""
             }
            },
            "type": "scatterpolar"
           }
          ],
          "scatterpolargl": [
           {
            "marker": {
             "colorbar": {
              "outlinewidth": 0,
              "ticks": ""
             }
            },
            "type": "scatterpolargl"
           }
          ],
          "scatterternary": [
           {
            "marker": {
             "colorbar": {
              "outlinewidth": 0,
              "ticks": ""
             }
            },
            "type": "scatterternary"
           }
          ],
          "surface": [
           {
            "colorbar": {
             "outlinewidth": 0,
             "ticks": ""
            },
            "colorscale": [
             [
              0,
              "#0d0887"
             ],
             [
              0.1111111111111111,
              "#46039f"
             ],
             [
              0.2222222222222222,
              "#7201a8"
             ],
             [
              0.3333333333333333,
              "#9c179e"
             ],
             [
              0.4444444444444444,
              "#bd3786"
             ],
             [
              0.5555555555555556,
              "#d8576b"
             ],
             [
              0.6666666666666666,
              "#ed7953"
             ],
             [
              0.7777777777777778,
              "#fb9f3a"
             ],
             [
              0.8888888888888888,
              "#fdca26"
             ],
             [
              1,
              "#f0f921"
             ]
            ],
            "type": "surface"
           }
          ],
          "table": [
           {
            "cells": {
             "fill": {
              "color": "#EBF0F8"
             },
             "line": {
              "color": "white"
             }
            },
            "header": {
             "fill": {
              "color": "#C8D4E3"
             },
             "line": {
              "color": "white"
             }
            },
            "type": "table"
           }
          ]
         },
         "layout": {
          "annotationdefaults": {
           "arrowcolor": "#2a3f5f",
           "arrowhead": 0,
           "arrowwidth": 1
          },
          "autotypenumbers": "strict",
          "coloraxis": {
           "colorbar": {
            "outlinewidth": 0,
            "ticks": ""
           }
          },
          "colorscale": {
           "diverging": [
            [
             0,
             "#8e0152"
            ],
            [
             0.1,
             "#c51b7d"
            ],
            [
             0.2,
             "#de77ae"
            ],
            [
             0.3,
             "#f1b6da"
            ],
            [
             0.4,
             "#fde0ef"
            ],
            [
             0.5,
             "#f7f7f7"
            ],
            [
             0.6,
             "#e6f5d0"
            ],
            [
             0.7,
             "#b8e186"
            ],
            [
             0.8,
             "#7fbc41"
            ],
            [
             0.9,
             "#4d9221"
            ],
            [
             1,
             "#276419"
            ]
           ],
           "sequential": [
            [
             0,
             "#0d0887"
            ],
            [
             0.1111111111111111,
             "#46039f"
            ],
            [
             0.2222222222222222,
             "#7201a8"
            ],
            [
             0.3333333333333333,
             "#9c179e"
            ],
            [
             0.4444444444444444,
             "#bd3786"
            ],
            [
             0.5555555555555556,
             "#d8576b"
            ],
            [
             0.6666666666666666,
             "#ed7953"
            ],
            [
             0.7777777777777778,
             "#fb9f3a"
            ],
            [
             0.8888888888888888,
             "#fdca26"
            ],
            [
             1,
             "#f0f921"
            ]
           ],
           "sequentialminus": [
            [
             0,
             "#0d0887"
            ],
            [
             0.1111111111111111,
             "#46039f"
            ],
            [
             0.2222222222222222,
             "#7201a8"
            ],
            [
             0.3333333333333333,
             "#9c179e"
            ],
            [
             0.4444444444444444,
             "#bd3786"
            ],
            [
             0.5555555555555556,
             "#d8576b"
            ],
            [
             0.6666666666666666,
             "#ed7953"
            ],
            [
             0.7777777777777778,
             "#fb9f3a"
            ],
            [
             0.8888888888888888,
             "#fdca26"
            ],
            [
             1,
             "#f0f921"
            ]
           ]
          },
          "colorway": [
           "#636efa",
           "#EF553B",
           "#00cc96",
           "#ab63fa",
           "#FFA15A",
           "#19d3f3",
           "#FF6692",
           "#B6E880",
           "#FF97FF",
           "#FECB52"
          ],
          "font": {
           "color": "#2a3f5f"
          },
          "geo": {
           "bgcolor": "white",
           "lakecolor": "white",
           "landcolor": "#E5ECF6",
           "showlakes": true,
           "showland": true,
           "subunitcolor": "white"
          },
          "hoverlabel": {
           "align": "left"
          },
          "hovermode": "closest",
          "mapbox": {
           "style": "light"
          },
          "paper_bgcolor": "white",
          "plot_bgcolor": "#E5ECF6",
          "polar": {
           "angularaxis": {
            "gridcolor": "white",
            "linecolor": "white",
            "ticks": ""
           },
           "bgcolor": "#E5ECF6",
           "radialaxis": {
            "gridcolor": "white",
            "linecolor": "white",
            "ticks": ""
           }
          },
          "scene": {
           "xaxis": {
            "backgroundcolor": "#E5ECF6",
            "gridcolor": "white",
            "gridwidth": 2,
            "linecolor": "white",
            "showbackground": true,
            "ticks": "",
            "zerolinecolor": "white"
           },
           "yaxis": {
            "backgroundcolor": "#E5ECF6",
            "gridcolor": "white",
            "gridwidth": 2,
            "linecolor": "white",
            "showbackground": true,
            "ticks": "",
            "zerolinecolor": "white"
           },
           "zaxis": {
            "backgroundcolor": "#E5ECF6",
            "gridcolor": "white",
            "gridwidth": 2,
            "linecolor": "white",
            "showbackground": true,
            "ticks": "",
            "zerolinecolor": "white"
           }
          },
          "shapedefaults": {
           "line": {
            "color": "#2a3f5f"
           }
          },
          "ternary": {
           "aaxis": {
            "gridcolor": "white",
            "linecolor": "white",
            "ticks": ""
           },
           "baxis": {
            "gridcolor": "white",
            "linecolor": "white",
            "ticks": ""
           },
           "bgcolor": "#E5ECF6",
           "caxis": {
            "gridcolor": "white",
            "linecolor": "white",
            "ticks": ""
           }
          },
          "title": {
           "x": 0.05
          },
          "xaxis": {
           "automargin": true,
           "gridcolor": "white",
           "linecolor": "white",
           "ticks": "",
           "title": {
            "standoff": 15
           },
           "zerolinecolor": "white",
           "zerolinewidth": 2
          },
          "yaxis": {
           "automargin": true,
           "gridcolor": "white",
           "linecolor": "white",
           "ticks": "",
           "title": {
            "standoff": 15
           },
           "zerolinecolor": "white",
           "zerolinewidth": 2
          }
         }
        },
        "xaxis": {
         "rangeslider": {
          "visible": false
         }
        }
       }
      }
     },
     "metadata": {},
     "output_type": "display_data"
    },
    {
     "data": {
      "application/vnd.plotly.v1+json": {
       "config": {
        "plotlyServerURL": "https://plot.ly"
       },
       "data": [
        {
         "close": [
          12159.25,
          12159.25,
          12156.75,
          12158,
          12157,
          12158.25,
          12162,
          12156.75,
          12152,
          12150.5,
          12145.5,
          12145,
          12142.75,
          12142.5,
          12135.25,
          12138.75,
          12133.75,
          12135,
          12134.75,
          12135.5,
          12133,
          12132,
          12126,
          12126,
          12123,
          12127.75,
          12127.25,
          12119.5,
          12121.25,
          12120.5,
          12116.75,
          12115.75,
          12113.5,
          12118.5,
          12117.5,
          12116.5,
          12108,
          12112.75,
          12110.25,
          12115.5,
          12115.25,
          12122.25,
          12122.25,
          12112.75,
          12118.5,
          12118.25,
          12112.5,
          12112,
          12112.25,
          12114
         ],
         "high": [
          12162.75,
          12162,
          12158.75,
          12158,
          12159.5,
          12160.75,
          12162.75,
          12162.25,
          12156.5,
          12153,
          12150,
          12147,
          12144.75,
          12143.25,
          12141,
          12139,
          12137.75,
          12136,
          12139,
          12136,
          12134.5,
          12134.75,
          12133.5,
          12127.75,
          12127.5,
          12127.75,
          12131,
          12126.75,
          12122,
          12122.5,
          12120.5,
          12118,
          12115.75,
          12119,
          12120.75,
          12119.75,
          12117.5,
          12115.25,
          12113.25,
          12117.5,
          12115.5,
          12122.75,
          12123.5,
          12123.75,
          12119,
          12119.25,
          12117.5,
          12112.75,
          12115.5,
          12116.25
         ],
         "low": [
          12158.25,
          12156.25,
          12155.75,
          12155,
          12155.75,
          12155,
          12157.5,
          12156.75,
          12151.25,
          12148.75,
          12145,
          12144,
          12141.75,
          12141,
          12135.25,
          12134.5,
          12133,
          12133.75,
          12134.75,
          12133,
          12130.75,
          12128.75,
          12126,
          12122.5,
          12121.5,
          12122.75,
          12127,
          12119,
          12118,
          12119,
          12116.75,
          12114.25,
          12109.5,
          12112.5,
          12117,
          12116.5,
          12108,
          12109.25,
          12109.5,
          12109,
          12114,
          12115.75,
          12119,
          12112.5,
          12111.5,
          12110,
          12110.25,
          12111,
          12110.25,
          12111.75
         ],
         "open": [
          12162.75,
          12160.5,
          12158,
          12156.5,
          12158,
          12157.25,
          12159,
          12160.75,
          12156.25,
          12152.25,
          12150,
          12145.25,
          12144.25,
          12142.75,
          12140.5,
          12136.25,
          12137.25,
          12134,
          12135.25,
          12136,
          12134.5,
          12132.25,
          12132.75,
          12125.75,
          12125.25,
          12125.25,
          12127.5,
          12126.5,
          12119.75,
          12120.5,
          12118.25,
          12116.5,
          12115.75,
          12112.5,
          12119,
          12118.5,
          12116.75,
          12109.5,
          12113,
          12109,
          12114.5,
          12115.75,
          12122,
          12123.25,
          12112.5,
          12117.5,
          12116.5,
          12111.25,
          12110.75,
          12112.5
         ],
         "type": "candlestick",
         "x": [
          0,
          1,
          2,
          3,
          4,
          5,
          6,
          7,
          8,
          9,
          10,
          11,
          12,
          13,
          14,
          15,
          16,
          17,
          18,
          19,
          20,
          21,
          22,
          23,
          24,
          25,
          26,
          27,
          28,
          29,
          30,
          31,
          32,
          33,
          34,
          35,
          36,
          37,
          38,
          39,
          40,
          41,
          42,
          43,
          44,
          45,
          46,
          47,
          48,
          49
         ]
        }
       ],
       "layout": {
        "template": {
         "data": {
          "bar": [
           {
            "error_x": {
             "color": "#2a3f5f"
            },
            "error_y": {
             "color": "#2a3f5f"
            },
            "marker": {
             "line": {
              "color": "#E5ECF6",
              "width": 0.5
             },
             "pattern": {
              "fillmode": "overlay",
              "size": 10,
              "solidity": 0.2
             }
            },
            "type": "bar"
           }
          ],
          "barpolar": [
           {
            "marker": {
             "line": {
              "color": "#E5ECF6",
              "width": 0.5
             },
             "pattern": {
              "fillmode": "overlay",
              "size": 10,
              "solidity": 0.2
             }
            },
            "type": "barpolar"
           }
          ],
          "carpet": [
           {
            "aaxis": {
             "endlinecolor": "#2a3f5f",
             "gridcolor": "white",
             "linecolor": "white",
             "minorgridcolor": "white",
             "startlinecolor": "#2a3f5f"
            },
            "baxis": {
             "endlinecolor": "#2a3f5f",
             "gridcolor": "white",
             "linecolor": "white",
             "minorgridcolor": "white",
             "startlinecolor": "#2a3f5f"
            },
            "type": "carpet"
           }
          ],
          "choropleth": [
           {
            "colorbar": {
             "outlinewidth": 0,
             "ticks": ""
            },
            "type": "choropleth"
           }
          ],
          "contour": [
           {
            "colorbar": {
             "outlinewidth": 0,
             "ticks": ""
            },
            "colorscale": [
             [
              0,
              "#0d0887"
             ],
             [
              0.1111111111111111,
              "#46039f"
             ],
             [
              0.2222222222222222,
              "#7201a8"
             ],
             [
              0.3333333333333333,
              "#9c179e"
             ],
             [
              0.4444444444444444,
              "#bd3786"
             ],
             [
              0.5555555555555556,
              "#d8576b"
             ],
             [
              0.6666666666666666,
              "#ed7953"
             ],
             [
              0.7777777777777778,
              "#fb9f3a"
             ],
             [
              0.8888888888888888,
              "#fdca26"
             ],
             [
              1,
              "#f0f921"
             ]
            ],
            "type": "contour"
           }
          ],
          "contourcarpet": [
           {
            "colorbar": {
             "outlinewidth": 0,
             "ticks": ""
            },
            "type": "contourcarpet"
           }
          ],
          "heatmap": [
           {
            "colorbar": {
             "outlinewidth": 0,
             "ticks": ""
            },
            "colorscale": [
             [
              0,
              "#0d0887"
             ],
             [
              0.1111111111111111,
              "#46039f"
             ],
             [
              0.2222222222222222,
              "#7201a8"
             ],
             [
              0.3333333333333333,
              "#9c179e"
             ],
             [
              0.4444444444444444,
              "#bd3786"
             ],
             [
              0.5555555555555556,
              "#d8576b"
             ],
             [
              0.6666666666666666,
              "#ed7953"
             ],
             [
              0.7777777777777778,
              "#fb9f3a"
             ],
             [
              0.8888888888888888,
              "#fdca26"
             ],
             [
              1,
              "#f0f921"
             ]
            ],
            "type": "heatmap"
           }
          ],
          "heatmapgl": [
           {
            "colorbar": {
             "outlinewidth": 0,
             "ticks": ""
            },
            "colorscale": [
             [
              0,
              "#0d0887"
             ],
             [
              0.1111111111111111,
              "#46039f"
             ],
             [
              0.2222222222222222,
              "#7201a8"
             ],
             [
              0.3333333333333333,
              "#9c179e"
             ],
             [
              0.4444444444444444,
              "#bd3786"
             ],
             [
              0.5555555555555556,
              "#d8576b"
             ],
             [
              0.6666666666666666,
              "#ed7953"
             ],
             [
              0.7777777777777778,
              "#fb9f3a"
             ],
             [
              0.8888888888888888,
              "#fdca26"
             ],
             [
              1,
              "#f0f921"
             ]
            ],
            "type": "heatmapgl"
           }
          ],
          "histogram": [
           {
            "marker": {
             "pattern": {
              "fillmode": "overlay",
              "size": 10,
              "solidity": 0.2
             }
            },
            "type": "histogram"
           }
          ],
          "histogram2d": [
           {
            "colorbar": {
             "outlinewidth": 0,
             "ticks": ""
            },
            "colorscale": [
             [
              0,
              "#0d0887"
             ],
             [
              0.1111111111111111,
              "#46039f"
             ],
             [
              0.2222222222222222,
              "#7201a8"
             ],
             [
              0.3333333333333333,
              "#9c179e"
             ],
             [
              0.4444444444444444,
              "#bd3786"
             ],
             [
              0.5555555555555556,
              "#d8576b"
             ],
             [
              0.6666666666666666,
              "#ed7953"
             ],
             [
              0.7777777777777778,
              "#fb9f3a"
             ],
             [
              0.8888888888888888,
              "#fdca26"
             ],
             [
              1,
              "#f0f921"
             ]
            ],
            "type": "histogram2d"
           }
          ],
          "histogram2dcontour": [
           {
            "colorbar": {
             "outlinewidth": 0,
             "ticks": ""
            },
            "colorscale": [
             [
              0,
              "#0d0887"
             ],
             [
              0.1111111111111111,
              "#46039f"
             ],
             [
              0.2222222222222222,
              "#7201a8"
             ],
             [
              0.3333333333333333,
              "#9c179e"
             ],
             [
              0.4444444444444444,
              "#bd3786"
             ],
             [
              0.5555555555555556,
              "#d8576b"
             ],
             [
              0.6666666666666666,
              "#ed7953"
             ],
             [
              0.7777777777777778,
              "#fb9f3a"
             ],
             [
              0.8888888888888888,
              "#fdca26"
             ],
             [
              1,
              "#f0f921"
             ]
            ],
            "type": "histogram2dcontour"
           }
          ],
          "mesh3d": [
           {
            "colorbar": {
             "outlinewidth": 0,
             "ticks": ""
            },
            "type": "mesh3d"
           }
          ],
          "parcoords": [
           {
            "line": {
             "colorbar": {
              "outlinewidth": 0,
              "ticks": ""
             }
            },
            "type": "parcoords"
           }
          ],
          "pie": [
           {
            "automargin": true,
            "type": "pie"
           }
          ],
          "scatter": [
           {
            "fillpattern": {
             "fillmode": "overlay",
             "size": 10,
             "solidity": 0.2
            },
            "type": "scatter"
           }
          ],
          "scatter3d": [
           {
            "line": {
             "colorbar": {
              "outlinewidth": 0,
              "ticks": ""
             }
            },
            "marker": {
             "colorbar": {
              "outlinewidth": 0,
              "ticks": ""
             }
            },
            "type": "scatter3d"
           }
          ],
          "scattercarpet": [
           {
            "marker": {
             "colorbar": {
              "outlinewidth": 0,
              "ticks": ""
             }
            },
            "type": "scattercarpet"
           }
          ],
          "scattergeo": [
           {
            "marker": {
             "colorbar": {
              "outlinewidth": 0,
              "ticks": ""
             }
            },
            "type": "scattergeo"
           }
          ],
          "scattergl": [
           {
            "marker": {
             "colorbar": {
              "outlinewidth": 0,
              "ticks": ""
             }
            },
            "type": "scattergl"
           }
          ],
          "scattermapbox": [
           {
            "marker": {
             "colorbar": {
              "outlinewidth": 0,
              "ticks": ""
             }
            },
            "type": "scattermapbox"
           }
          ],
          "scatterpolar": [
           {
            "marker": {
             "colorbar": {
              "outlinewidth": 0,
              "ticks": ""
             }
            },
            "type": "scatterpolar"
           }
          ],
          "scatterpolargl": [
           {
            "marker": {
             "colorbar": {
              "outlinewidth": 0,
              "ticks": ""
             }
            },
            "type": "scatterpolargl"
           }
          ],
          "scatterternary": [
           {
            "marker": {
             "colorbar": {
              "outlinewidth": 0,
              "ticks": ""
             }
            },
            "type": "scatterternary"
           }
          ],
          "surface": [
           {
            "colorbar": {
             "outlinewidth": 0,
             "ticks": ""
            },
            "colorscale": [
             [
              0,
              "#0d0887"
             ],
             [
              0.1111111111111111,
              "#46039f"
             ],
             [
              0.2222222222222222,
              "#7201a8"
             ],
             [
              0.3333333333333333,
              "#9c179e"
             ],
             [
              0.4444444444444444,
              "#bd3786"
             ],
             [
              0.5555555555555556,
              "#d8576b"
             ],
             [
              0.6666666666666666,
              "#ed7953"
             ],
             [
              0.7777777777777778,
              "#fb9f3a"
             ],
             [
              0.8888888888888888,
              "#fdca26"
             ],
             [
              1,
              "#f0f921"
             ]
            ],
            "type": "surface"
           }
          ],
          "table": [
           {
            "cells": {
             "fill": {
              "color": "#EBF0F8"
             },
             "line": {
              "color": "white"
             }
            },
            "header": {
             "fill": {
              "color": "#C8D4E3"
             },
             "line": {
              "color": "white"
             }
            },
            "type": "table"
           }
          ]
         },
         "layout": {
          "annotationdefaults": {
           "arrowcolor": "#2a3f5f",
           "arrowhead": 0,
           "arrowwidth": 1
          },
          "autotypenumbers": "strict",
          "coloraxis": {
           "colorbar": {
            "outlinewidth": 0,
            "ticks": ""
           }
          },
          "colorscale": {
           "diverging": [
            [
             0,
             "#8e0152"
            ],
            [
             0.1,
             "#c51b7d"
            ],
            [
             0.2,
             "#de77ae"
            ],
            [
             0.3,
             "#f1b6da"
            ],
            [
             0.4,
             "#fde0ef"
            ],
            [
             0.5,
             "#f7f7f7"
            ],
            [
             0.6,
             "#e6f5d0"
            ],
            [
             0.7,
             "#b8e186"
            ],
            [
             0.8,
             "#7fbc41"
            ],
            [
             0.9,
             "#4d9221"
            ],
            [
             1,
             "#276419"
            ]
           ],
           "sequential": [
            [
             0,
             "#0d0887"
            ],
            [
             0.1111111111111111,
             "#46039f"
            ],
            [
             0.2222222222222222,
             "#7201a8"
            ],
            [
             0.3333333333333333,
             "#9c179e"
            ],
            [
             0.4444444444444444,
             "#bd3786"
            ],
            [
             0.5555555555555556,
             "#d8576b"
            ],
            [
             0.6666666666666666,
             "#ed7953"
            ],
            [
             0.7777777777777778,
             "#fb9f3a"
            ],
            [
             0.8888888888888888,
             "#fdca26"
            ],
            [
             1,
             "#f0f921"
            ]
           ],
           "sequentialminus": [
            [
             0,
             "#0d0887"
            ],
            [
             0.1111111111111111,
             "#46039f"
            ],
            [
             0.2222222222222222,
             "#7201a8"
            ],
            [
             0.3333333333333333,
             "#9c179e"
            ],
            [
             0.4444444444444444,
             "#bd3786"
            ],
            [
             0.5555555555555556,
             "#d8576b"
            ],
            [
             0.6666666666666666,
             "#ed7953"
            ],
            [
             0.7777777777777778,
             "#fb9f3a"
            ],
            [
             0.8888888888888888,
             "#fdca26"
            ],
            [
             1,
             "#f0f921"
            ]
           ]
          },
          "colorway": [
           "#636efa",
           "#EF553B",
           "#00cc96",
           "#ab63fa",
           "#FFA15A",
           "#19d3f3",
           "#FF6692",
           "#B6E880",
           "#FF97FF",
           "#FECB52"
          ],
          "font": {
           "color": "#2a3f5f"
          },
          "geo": {
           "bgcolor": "white",
           "lakecolor": "white",
           "landcolor": "#E5ECF6",
           "showlakes": true,
           "showland": true,
           "subunitcolor": "white"
          },
          "hoverlabel": {
           "align": "left"
          },
          "hovermode": "closest",
          "mapbox": {
           "style": "light"
          },
          "paper_bgcolor": "white",
          "plot_bgcolor": "#E5ECF6",
          "polar": {
           "angularaxis": {
            "gridcolor": "white",
            "linecolor": "white",
            "ticks": ""
           },
           "bgcolor": "#E5ECF6",
           "radialaxis": {
            "gridcolor": "white",
            "linecolor": "white",
            "ticks": ""
           }
          },
          "scene": {
           "xaxis": {
            "backgroundcolor": "#E5ECF6",
            "gridcolor": "white",
            "gridwidth": 2,
            "linecolor": "white",
            "showbackground": true,
            "ticks": "",
            "zerolinecolor": "white"
           },
           "yaxis": {
            "backgroundcolor": "#E5ECF6",
            "gridcolor": "white",
            "gridwidth": 2,
            "linecolor": "white",
            "showbackground": true,
            "ticks": "",
            "zerolinecolor": "white"
           },
           "zaxis": {
            "backgroundcolor": "#E5ECF6",
            "gridcolor": "white",
            "gridwidth": 2,
            "linecolor": "white",
            "showbackground": true,
            "ticks": "",
            "zerolinecolor": "white"
           }
          },
          "shapedefaults": {
           "line": {
            "color": "#2a3f5f"
           }
          },
          "ternary": {
           "aaxis": {
            "gridcolor": "white",
            "linecolor": "white",
            "ticks": ""
           },
           "baxis": {
            "gridcolor": "white",
            "linecolor": "white",
            "ticks": ""
           },
           "bgcolor": "#E5ECF6",
           "caxis": {
            "gridcolor": "white",
            "linecolor": "white",
            "ticks": ""
           }
          },
          "title": {
           "x": 0.05
          },
          "xaxis": {
           "automargin": true,
           "gridcolor": "white",
           "linecolor": "white",
           "ticks": "",
           "title": {
            "standoff": 15
           },
           "zerolinecolor": "white",
           "zerolinewidth": 2
          },
          "yaxis": {
           "automargin": true,
           "gridcolor": "white",
           "linecolor": "white",
           "ticks": "",
           "title": {
            "standoff": 15
           },
           "zerolinecolor": "white",
           "zerolinewidth": 2
          }
         }
        },
        "xaxis": {
         "rangeslider": {
          "visible": false
         }
        }
       }
      }
     },
     "metadata": {},
     "output_type": "display_data"
    }
   ],
   "source": [
    "#Plot candlestick charts\n",
    "plot_sample(out[1000:1050].detach().numpy())\n",
    "plot_sample(candles_sample[1000:1050])\n"
   ]
  },
  {
   "cell_type": "code",
   "execution_count": 508,
   "metadata": {},
   "outputs": [
    {
     "data": {
      "text/html": [
       "<div>\n",
       "<style scoped>\n",
       "    .dataframe tbody tr th:only-of-type {\n",
       "        vertical-align: middle;\n",
       "    }\n",
       "\n",
       "    .dataframe tbody tr th {\n",
       "        vertical-align: top;\n",
       "    }\n",
       "\n",
       "    .dataframe thead th {\n",
       "        text-align: right;\n",
       "    }\n",
       "</style>\n",
       "<table border=\"1\" class=\"dataframe\">\n",
       "  <thead>\n",
       "    <tr style=\"text-align: right;\">\n",
       "      <th></th>\n",
       "      <th>open</th>\n",
       "      <th>high</th>\n",
       "      <th>low</th>\n",
       "      <th>close</th>\n",
       "      <th>codes</th>\n",
       "    </tr>\n",
       "  </thead>\n",
       "  <tbody>\n",
       "    <tr>\n",
       "      <th>2023-04-20 22:44:15+00:00</th>\n",
       "      <td>13081.00</td>\n",
       "      <td>13081.00</td>\n",
       "      <td>13081.00</td>\n",
       "      <td>13081.00</td>\n",
       "      <td>0.0</td>\n",
       "    </tr>\n",
       "    <tr>\n",
       "      <th>2023-04-19 23:09:45+00:00</th>\n",
       "      <td>13147.00</td>\n",
       "      <td>13147.50</td>\n",
       "      <td>13147.00</td>\n",
       "      <td>13147.00</td>\n",
       "      <td>12.0</td>\n",
       "    </tr>\n",
       "    <tr>\n",
       "      <th>2023-06-06 00:18:00+00:00</th>\n",
       "      <td>14561.00</td>\n",
       "      <td>14561.75</td>\n",
       "      <td>14560.75</td>\n",
       "      <td>14560.75</td>\n",
       "      <td>13.0</td>\n",
       "    </tr>\n",
       "    <tr>\n",
       "      <th>2023-05-15 10:25:00+00:00</th>\n",
       "      <td>13432.50</td>\n",
       "      <td>13433.25</td>\n",
       "      <td>13432.50</td>\n",
       "      <td>13432.75</td>\n",
       "      <td>21.0</td>\n",
       "    </tr>\n",
       "    <tr>\n",
       "      <th>2023-04-11 14:20:45+00:00</th>\n",
       "      <td>13085.75</td>\n",
       "      <td>13089.75</td>\n",
       "      <td>13085.25</td>\n",
       "      <td>13086.25</td>\n",
       "      <td>22.0</td>\n",
       "    </tr>\n",
       "    <tr>\n",
       "      <th>2023-04-10 00:04:00+00:00</th>\n",
       "      <td>13157.75</td>\n",
       "      <td>13158.25</td>\n",
       "      <td>13157.50</td>\n",
       "      <td>13157.50</td>\n",
       "      <td>23.0</td>\n",
       "    </tr>\n",
       "    <tr>\n",
       "      <th>2023-03-17 04:05:00+00:00</th>\n",
       "      <td>12721.00</td>\n",
       "      <td>12721.25</td>\n",
       "      <td>12720.75</td>\n",
       "      <td>12720.75</td>\n",
       "      <td>24.0</td>\n",
       "    </tr>\n",
       "    <tr>\n",
       "      <th>2023-05-03 22:09:30+00:00</th>\n",
       "      <td>13063.25</td>\n",
       "      <td>13064.00</td>\n",
       "      <td>13061.75</td>\n",
       "      <td>13061.75</td>\n",
       "      <td>25.0</td>\n",
       "    </tr>\n",
       "    <tr>\n",
       "      <th>2023-06-02 03:31:00+00:00</th>\n",
       "      <td>14503.00</td>\n",
       "      <td>14504.75</td>\n",
       "      <td>14503.00</td>\n",
       "      <td>14503.75</td>\n",
       "      <td>31.0</td>\n",
       "    </tr>\n",
       "    <tr>\n",
       "      <th>2023-05-30 14:10:00+00:00</th>\n",
       "      <td>14438.25</td>\n",
       "      <td>14442.75</td>\n",
       "      <td>14437.25</td>\n",
       "      <td>14438.75</td>\n",
       "      <td>32.0</td>\n",
       "    </tr>\n",
       "    <tr>\n",
       "      <th>2023-03-23 00:28:45+00:00</th>\n",
       "      <td>12720.00</td>\n",
       "      <td>12720.50</td>\n",
       "      <td>12719.75</td>\n",
       "      <td>12720.00</td>\n",
       "      <td>33.0</td>\n",
       "    </tr>\n",
       "    <tr>\n",
       "      <th>2023-04-24 12:36:30+00:00</th>\n",
       "      <td>13075.75</td>\n",
       "      <td>13076.75</td>\n",
       "      <td>13074.75</td>\n",
       "      <td>13075.00</td>\n",
       "      <td>34.0</td>\n",
       "    </tr>\n",
       "    <tr>\n",
       "      <th>2023-04-03 16:17:00+00:00</th>\n",
       "      <td>13204.75</td>\n",
       "      <td>13205.75</td>\n",
       "      <td>13202.00</td>\n",
       "      <td>13202.75</td>\n",
       "      <td>35.0</td>\n",
       "    </tr>\n",
       "    <tr>\n",
       "      <th>2023-05-25 14:53:15+00:00</th>\n",
       "      <td>13923.25</td>\n",
       "      <td>13923.50</td>\n",
       "      <td>13918.50</td>\n",
       "      <td>13918.75</td>\n",
       "      <td>36.0</td>\n",
       "    </tr>\n",
       "    <tr>\n",
       "      <th>2023-04-11 10:44:00+00:00</th>\n",
       "      <td>13186.00</td>\n",
       "      <td>13186.00</td>\n",
       "      <td>13185.75</td>\n",
       "      <td>13185.75</td>\n",
       "      <td>37.0</td>\n",
       "    </tr>\n",
       "    <tr>\n",
       "      <th>2023-05-09 06:59:00+00:00</th>\n",
       "      <td>13323.50</td>\n",
       "      <td>13325.50</td>\n",
       "      <td>13323.50</td>\n",
       "      <td>13325.00</td>\n",
       "      <td>40.0</td>\n",
       "    </tr>\n",
       "    <tr>\n",
       "      <th>2023-04-13 14:16:45+00:00</th>\n",
       "      <td>13124.50</td>\n",
       "      <td>13129.50</td>\n",
       "      <td>13123.75</td>\n",
       "      <td>13127.50</td>\n",
       "      <td>41.0</td>\n",
       "    </tr>\n",
       "    <tr>\n",
       "      <th>2023-03-23 16:22:45+00:00</th>\n",
       "      <td>12969.00</td>\n",
       "      <td>12973.50</td>\n",
       "      <td>12967.50</td>\n",
       "      <td>12970.50</td>\n",
       "      <td>42.0</td>\n",
       "    </tr>\n",
       "    <tr>\n",
       "      <th>2023-05-15 19:35:15+00:00</th>\n",
       "      <td>13458.75</td>\n",
       "      <td>13460.25</td>\n",
       "      <td>13457.25</td>\n",
       "      <td>13458.75</td>\n",
       "      <td>43.0</td>\n",
       "    </tr>\n",
       "    <tr>\n",
       "      <th>2023-05-30 16:47:00+00:00</th>\n",
       "      <td>14413.50</td>\n",
       "      <td>14415.00</td>\n",
       "      <td>14410.50</td>\n",
       "      <td>14412.00</td>\n",
       "      <td>44.0</td>\n",
       "    </tr>\n",
       "    <tr>\n",
       "      <th>2023-03-21 15:08:45+00:00</th>\n",
       "      <td>12742.00</td>\n",
       "      <td>12742.75</td>\n",
       "      <td>12739.50</td>\n",
       "      <td>12740.75</td>\n",
       "      <td>45.0</td>\n",
       "    </tr>\n",
       "    <tr>\n",
       "      <th>2023-04-28 06:04:30+00:00</th>\n",
       "      <td>13216.25</td>\n",
       "      <td>13216.25</td>\n",
       "      <td>13215.25</td>\n",
       "      <td>13215.50</td>\n",
       "      <td>46.0</td>\n",
       "    </tr>\n",
       "    <tr>\n",
       "      <th>2023-05-11 18:22:15+00:00</th>\n",
       "      <td>13424.00</td>\n",
       "      <td>13428.00</td>\n",
       "      <td>13424.00</td>\n",
       "      <td>13427.75</td>\n",
       "      <td>50.0</td>\n",
       "    </tr>\n",
       "    <tr>\n",
       "      <th>2023-05-29 04:59:45+00:00</th>\n",
       "      <td>14394.25</td>\n",
       "      <td>14395.25</td>\n",
       "      <td>14394.00</td>\n",
       "      <td>14395.00</td>\n",
       "      <td>51.0</td>\n",
       "    </tr>\n",
       "    <tr>\n",
       "      <th>2023-03-28 05:27:00+00:00</th>\n",
       "      <td>12796.25</td>\n",
       "      <td>12796.75</td>\n",
       "      <td>12796.00</td>\n",
       "      <td>12796.50</td>\n",
       "      <td>52.0</td>\n",
       "    </tr>\n",
       "    <tr>\n",
       "      <th>2023-06-01 18:28:00+00:00</th>\n",
       "      <td>14493.75</td>\n",
       "      <td>14494.75</td>\n",
       "      <td>14493.00</td>\n",
       "      <td>14494.00</td>\n",
       "      <td>53.0</td>\n",
       "    </tr>\n",
       "    <tr>\n",
       "      <th>2023-03-13 19:22:15+00:00</th>\n",
       "      <td>12124.50</td>\n",
       "      <td>12126.00</td>\n",
       "      <td>12120.25</td>\n",
       "      <td>12123.25</td>\n",
       "      <td>54.0</td>\n",
       "    </tr>\n",
       "    <tr>\n",
       "      <th>2023-04-03 14:43:30+00:00</th>\n",
       "      <td>13238.75</td>\n",
       "      <td>13239.25</td>\n",
       "      <td>13236.00</td>\n",
       "      <td>13237.25</td>\n",
       "      <td>55.0</td>\n",
       "    </tr>\n",
       "    <tr>\n",
       "      <th>2023-05-04 01:44:45+00:00</th>\n",
       "      <td>13128.50</td>\n",
       "      <td>13128.50</td>\n",
       "      <td>13127.75</td>\n",
       "      <td>13128.00</td>\n",
       "      <td>56.0</td>\n",
       "    </tr>\n",
       "    <tr>\n",
       "      <th>2023-06-13 00:48:45+00:00</th>\n",
       "      <td>14816.50</td>\n",
       "      <td>14817.00</td>\n",
       "      <td>14816.50</td>\n",
       "      <td>14817.00</td>\n",
       "      <td>60.0</td>\n",
       "    </tr>\n",
       "    <tr>\n",
       "      <th>2023-06-06 01:01:30+00:00</th>\n",
       "      <td>14573.75</td>\n",
       "      <td>14575.00</td>\n",
       "      <td>14573.25</td>\n",
       "      <td>14575.00</td>\n",
       "      <td>61.0</td>\n",
       "    </tr>\n",
       "    <tr>\n",
       "      <th>2023-05-03 17:25:15+00:00</th>\n",
       "      <td>13223.75</td>\n",
       "      <td>13225.00</td>\n",
       "      <td>13223.25</td>\n",
       "      <td>13224.75</td>\n",
       "      <td>62.0</td>\n",
       "    </tr>\n",
       "    <tr>\n",
       "      <th>2023-06-09 11:57:15+00:00</th>\n",
       "      <td>14516.50</td>\n",
       "      <td>14517.00</td>\n",
       "      <td>14515.75</td>\n",
       "      <td>14516.75</td>\n",
       "      <td>63.0</td>\n",
       "    </tr>\n",
       "    <tr>\n",
       "      <th>2023-03-23 07:25:00+00:00</th>\n",
       "      <td>12812.25</td>\n",
       "      <td>12812.50</td>\n",
       "      <td>12811.50</td>\n",
       "      <td>12812.25</td>\n",
       "      <td>64.0</td>\n",
       "    </tr>\n",
       "    <tr>\n",
       "      <th>2023-06-08 18:08:15+00:00</th>\n",
       "      <td>14443.50</td>\n",
       "      <td>14443.50</td>\n",
       "      <td>14441.25</td>\n",
       "      <td>14442.75</td>\n",
       "      <td>65.0</td>\n",
       "    </tr>\n",
       "    <tr>\n",
       "      <th>2023-05-08 19:29:00+00:00</th>\n",
       "      <td>13345.25</td>\n",
       "      <td>13345.25</td>\n",
       "      <td>13340.25</td>\n",
       "      <td>13343.25</td>\n",
       "      <td>66.0</td>\n",
       "    </tr>\n",
       "    <tr>\n",
       "      <th>2023-03-29 04:24:15+00:00</th>\n",
       "      <td>12778.00</td>\n",
       "      <td>12778.25</td>\n",
       "      <td>12777.75</td>\n",
       "      <td>12778.25</td>\n",
       "      <td>72.0</td>\n",
       "    </tr>\n",
       "    <tr>\n",
       "      <th>2023-04-12 05:46:30+00:00</th>\n",
       "      <td>13076.25</td>\n",
       "      <td>13076.50</td>\n",
       "      <td>13075.75</td>\n",
       "      <td>13076.50</td>\n",
       "      <td>73.0</td>\n",
       "    </tr>\n",
       "    <tr>\n",
       "      <th>2023-05-26 06:06:15+00:00</th>\n",
       "      <td>13963.00</td>\n",
       "      <td>13963.25</td>\n",
       "      <td>13962.25</td>\n",
       "      <td>13963.25</td>\n",
       "      <td>74.0</td>\n",
       "    </tr>\n",
       "    <tr>\n",
       "      <th>2023-04-10 11:00:45+00:00</th>\n",
       "      <td>13152.00</td>\n",
       "      <td>13152.00</td>\n",
       "      <td>13151.00</td>\n",
       "      <td>13151.75</td>\n",
       "      <td>75.0</td>\n",
       "    </tr>\n",
       "    <tr>\n",
       "      <th>2023-05-29 07:14:00+00:00</th>\n",
       "      <td>14409.50</td>\n",
       "      <td>14409.75</td>\n",
       "      <td>14408.25</td>\n",
       "      <td>14409.75</td>\n",
       "      <td>84.0</td>\n",
       "    </tr>\n",
       "    <tr>\n",
       "      <th>2023-05-28 23:42:45+00:00</th>\n",
       "      <td>14419.00</td>\n",
       "      <td>14419.00</td>\n",
       "      <td>14418.75</td>\n",
       "      <td>14419.00</td>\n",
       "      <td>85.0</td>\n",
       "    </tr>\n",
       "  </tbody>\n",
       "</table>\n",
       "</div>"
      ],
      "text/plain": [
       "                               open      high       low     close  codes\n",
       "2023-04-20 22:44:15+00:00  13081.00  13081.00  13081.00  13081.00    0.0\n",
       "2023-04-19 23:09:45+00:00  13147.00  13147.50  13147.00  13147.00   12.0\n",
       "2023-06-06 00:18:00+00:00  14561.00  14561.75  14560.75  14560.75   13.0\n",
       "2023-05-15 10:25:00+00:00  13432.50  13433.25  13432.50  13432.75   21.0\n",
       "2023-04-11 14:20:45+00:00  13085.75  13089.75  13085.25  13086.25   22.0\n",
       "2023-04-10 00:04:00+00:00  13157.75  13158.25  13157.50  13157.50   23.0\n",
       "2023-03-17 04:05:00+00:00  12721.00  12721.25  12720.75  12720.75   24.0\n",
       "2023-05-03 22:09:30+00:00  13063.25  13064.00  13061.75  13061.75   25.0\n",
       "2023-06-02 03:31:00+00:00  14503.00  14504.75  14503.00  14503.75   31.0\n",
       "2023-05-30 14:10:00+00:00  14438.25  14442.75  14437.25  14438.75   32.0\n",
       "2023-03-23 00:28:45+00:00  12720.00  12720.50  12719.75  12720.00   33.0\n",
       "2023-04-24 12:36:30+00:00  13075.75  13076.75  13074.75  13075.00   34.0\n",
       "2023-04-03 16:17:00+00:00  13204.75  13205.75  13202.00  13202.75   35.0\n",
       "2023-05-25 14:53:15+00:00  13923.25  13923.50  13918.50  13918.75   36.0\n",
       "2023-04-11 10:44:00+00:00  13186.00  13186.00  13185.75  13185.75   37.0\n",
       "2023-05-09 06:59:00+00:00  13323.50  13325.50  13323.50  13325.00   40.0\n",
       "2023-04-13 14:16:45+00:00  13124.50  13129.50  13123.75  13127.50   41.0\n",
       "2023-03-23 16:22:45+00:00  12969.00  12973.50  12967.50  12970.50   42.0\n",
       "2023-05-15 19:35:15+00:00  13458.75  13460.25  13457.25  13458.75   43.0\n",
       "2023-05-30 16:47:00+00:00  14413.50  14415.00  14410.50  14412.00   44.0\n",
       "2023-03-21 15:08:45+00:00  12742.00  12742.75  12739.50  12740.75   45.0\n",
       "2023-04-28 06:04:30+00:00  13216.25  13216.25  13215.25  13215.50   46.0\n",
       "2023-05-11 18:22:15+00:00  13424.00  13428.00  13424.00  13427.75   50.0\n",
       "2023-05-29 04:59:45+00:00  14394.25  14395.25  14394.00  14395.00   51.0\n",
       "2023-03-28 05:27:00+00:00  12796.25  12796.75  12796.00  12796.50   52.0\n",
       "2023-06-01 18:28:00+00:00  14493.75  14494.75  14493.00  14494.00   53.0\n",
       "2023-03-13 19:22:15+00:00  12124.50  12126.00  12120.25  12123.25   54.0\n",
       "2023-04-03 14:43:30+00:00  13238.75  13239.25  13236.00  13237.25   55.0\n",
       "2023-05-04 01:44:45+00:00  13128.50  13128.50  13127.75  13128.00   56.0\n",
       "2023-06-13 00:48:45+00:00  14816.50  14817.00  14816.50  14817.00   60.0\n",
       "2023-06-06 01:01:30+00:00  14573.75  14575.00  14573.25  14575.00   61.0\n",
       "2023-05-03 17:25:15+00:00  13223.75  13225.00  13223.25  13224.75   62.0\n",
       "2023-06-09 11:57:15+00:00  14516.50  14517.00  14515.75  14516.75   63.0\n",
       "2023-03-23 07:25:00+00:00  12812.25  12812.50  12811.50  12812.25   64.0\n",
       "2023-06-08 18:08:15+00:00  14443.50  14443.50  14441.25  14442.75   65.0\n",
       "2023-05-08 19:29:00+00:00  13345.25  13345.25  13340.25  13343.25   66.0\n",
       "2023-03-29 04:24:15+00:00  12778.00  12778.25  12777.75  12778.25   72.0\n",
       "2023-04-12 05:46:30+00:00  13076.25  13076.50  13075.75  13076.50   73.0\n",
       "2023-05-26 06:06:15+00:00  13963.00  13963.25  13962.25  13963.25   74.0\n",
       "2023-04-10 11:00:45+00:00  13152.00  13152.00  13151.00  13151.75   75.0\n",
       "2023-05-29 07:14:00+00:00  14409.50  14409.75  14408.25  14409.75   84.0\n",
       "2023-05-28 23:42:45+00:00  14419.00  14419.00  14418.75  14419.00   85.0"
      ]
     },
     "execution_count": 508,
     "metadata": {},
     "output_type": "execute_result"
    }
   ],
   "source": [
    "labels = torch.round(model0.label.cpu().detach(),decimals=0)\n",
    "uniq = torch.unique(labels,dim=0)\n",
    "diag = torch.tensor([10.0,1])\n",
    "code_list = {}\n",
    "for i,code in enumerate((uniq @ diag.view(2,1)).numpy()):\n",
    "    code_list[code.item()]= i\n",
    "codes = (labels @ diag.view(2,1))\n",
    "df1['codes'] = codes\n",
    "df1.groupby('codes').sample()\n",
    "\n"
   ]
  },
  {
   "cell_type": "code",
   "execution_count": 509,
   "metadata": {},
   "outputs": [
    {
     "data": {
      "text/html": [
       "<div>\n",
       "<style scoped>\n",
       "    .dataframe tbody tr th:only-of-type {\n",
       "        vertical-align: middle;\n",
       "    }\n",
       "\n",
       "    .dataframe tbody tr th {\n",
       "        vertical-align: top;\n",
       "    }\n",
       "\n",
       "    .dataframe thead th {\n",
       "        text-align: right;\n",
       "    }\n",
       "</style>\n",
       "<table border=\"1\" class=\"dataframe\">\n",
       "  <thead>\n",
       "    <tr style=\"text-align: right;\">\n",
       "      <th></th>\n",
       "      <th>open</th>\n",
       "      <th>high</th>\n",
       "      <th>low</th>\n",
       "      <th>close</th>\n",
       "      <th>codes</th>\n",
       "    </tr>\n",
       "  </thead>\n",
       "  <tbody>\n",
       "    <tr>\n",
       "      <th>2023-03-13 04:00:00+00:00</th>\n",
       "      <td>12177.25</td>\n",
       "      <td>12179.00</td>\n",
       "      <td>12177.25</td>\n",
       "      <td>12179.00</td>\n",
       "      <td>29</td>\n",
       "    </tr>\n",
       "    <tr>\n",
       "      <th>2023-03-13 04:00:15+00:00</th>\n",
       "      <td>12179.00</td>\n",
       "      <td>12179.25</td>\n",
       "      <td>12179.00</td>\n",
       "      <td>12179.25</td>\n",
       "      <td>29</td>\n",
       "    </tr>\n",
       "    <tr>\n",
       "      <th>2023-03-13 04:00:30+00:00</th>\n",
       "      <td>12181.25</td>\n",
       "      <td>12181.25</td>\n",
       "      <td>12180.25</td>\n",
       "      <td>12180.75</td>\n",
       "      <td>28</td>\n",
       "    </tr>\n",
       "    <tr>\n",
       "      <th>2023-03-13 04:00:45+00:00</th>\n",
       "      <td>12179.50</td>\n",
       "      <td>12179.75</td>\n",
       "      <td>12179.25</td>\n",
       "      <td>12179.75</td>\n",
       "      <td>36</td>\n",
       "    </tr>\n",
       "    <tr>\n",
       "      <th>2023-03-13 04:01:00+00:00</th>\n",
       "      <td>12180.00</td>\n",
       "      <td>12181.75</td>\n",
       "      <td>12180.00</td>\n",
       "      <td>12180.50</td>\n",
       "      <td>3</td>\n",
       "    </tr>\n",
       "    <tr>\n",
       "      <th>...</th>\n",
       "      <td>...</td>\n",
       "      <td>...</td>\n",
       "      <td>...</td>\n",
       "      <td>...</td>\n",
       "      <td>...</td>\n",
       "    </tr>\n",
       "    <tr>\n",
       "      <th>2023-06-13 03:58:45+00:00</th>\n",
       "      <td>14865.00</td>\n",
       "      <td>14865.00</td>\n",
       "      <td>14864.50</td>\n",
       "      <td>14864.50</td>\n",
       "      <td>14</td>\n",
       "    </tr>\n",
       "    <tr>\n",
       "      <th>2023-06-13 03:59:00+00:00</th>\n",
       "      <td>14864.25</td>\n",
       "      <td>14865.00</td>\n",
       "      <td>14864.25</td>\n",
       "      <td>14865.00</td>\n",
       "      <td>29</td>\n",
       "    </tr>\n",
       "    <tr>\n",
       "      <th>2023-06-13 03:59:15+00:00</th>\n",
       "      <td>14864.50</td>\n",
       "      <td>14866.00</td>\n",
       "      <td>14864.50</td>\n",
       "      <td>14866.00</td>\n",
       "      <td>29</td>\n",
       "    </tr>\n",
       "    <tr>\n",
       "      <th>2023-06-13 03:59:30+00:00</th>\n",
       "      <td>14866.75</td>\n",
       "      <td>14867.00</td>\n",
       "      <td>14866.50</td>\n",
       "      <td>14866.50</td>\n",
       "      <td>6</td>\n",
       "    </tr>\n",
       "    <tr>\n",
       "      <th>2023-06-13 03:59:45+00:00</th>\n",
       "      <td>14867.25</td>\n",
       "      <td>14867.25</td>\n",
       "      <td>14865.00</td>\n",
       "      <td>14866.25</td>\n",
       "      <td>35</td>\n",
       "    </tr>\n",
       "  </tbody>\n",
       "</table>\n",
       "<p>354167 rows × 5 columns</p>\n",
       "</div>"
      ],
      "text/plain": [
       "                               open      high       low     close  codes\n",
       "2023-03-13 04:00:00+00:00  12177.25  12179.00  12177.25  12179.00     29\n",
       "2023-03-13 04:00:15+00:00  12179.00  12179.25  12179.00  12179.25     29\n",
       "2023-03-13 04:00:30+00:00  12181.25  12181.25  12180.25  12180.75     28\n",
       "2023-03-13 04:00:45+00:00  12179.50  12179.75  12179.25  12179.75     36\n",
       "2023-03-13 04:01:00+00:00  12180.00  12181.75  12180.00  12180.50      3\n",
       "...                             ...       ...       ...       ...    ...\n",
       "2023-06-13 03:58:45+00:00  14865.00  14865.00  14864.50  14864.50     14\n",
       "2023-06-13 03:59:00+00:00  14864.25  14865.00  14864.25  14865.00     29\n",
       "2023-06-13 03:59:15+00:00  14864.50  14866.00  14864.50  14866.00     29\n",
       "2023-06-13 03:59:30+00:00  14866.75  14867.00  14866.50  14866.50      6\n",
       "2023-06-13 03:59:45+00:00  14867.25  14867.25  14865.00  14866.25     35\n",
       "\n",
       "[354167 rows x 5 columns]"
      ]
     },
     "execution_count": 509,
     "metadata": {},
     "output_type": "execute_result"
    }
   ],
   "source": [
    "df1['codes'] = df1['codes'].apply(lambda x : code_list[x])\n",
    "df1\n"
   ]
  },
  {
   "cell_type": "code",
   "execution_count": 573,
   "metadata": {},
   "outputs": [
    {
     "data": {
      "application/vnd.plotly.v1+json": {
       "config": {
        "plotlyServerURL": "https://plot.ly"
       },
       "data": [
        {
         "close": [
          0,
          0.1111111111111111,
          0,
          0.2857142857142857,
          0.14285714285714285,
          0,
          0,
          0,
          0.5,
          0.3333333333333333,
          0.21052631578947367,
          0.3125,
          0.125,
          0,
          0,
          0.75,
          0.6923076923076923,
          0.5833333333333334,
          0.5,
          0.3333333333333333,
          0.18181818181818182,
          0.125,
          0.7777777777777778,
          0.8928571428571429,
          0.6666666666666666,
          0.6666666666666666,
          0.5384615384615384,
          0.5,
          0.38461538461538464,
          1,
          1,
          0.8823529411764706,
          0.75,
          0.6666666666666666,
          0.6,
          0.6,
          1,
          1,
          0.8333333333333334,
          0.75,
          1,
          1
         ],
         "high": [
          0,
          1,
          1,
          1,
          1,
          1,
          1,
          1,
          1,
          1,
          1,
          1,
          1,
          1,
          1,
          1,
          1,
          1,
          1,
          1,
          1,
          1,
          1,
          1,
          1,
          1,
          1,
          1,
          1,
          1,
          1,
          1,
          1,
          1,
          1,
          1,
          1,
          1,
          1,
          1,
          1,
          1
         ],
         "low": [
          0,
          0,
          0,
          0,
          0,
          0,
          0,
          0,
          0,
          0,
          0,
          0,
          0,
          0,
          0,
          0,
          0,
          0,
          0,
          0,
          0,
          0,
          0,
          0,
          0,
          0,
          0,
          0,
          0,
          0,
          0,
          0,
          0,
          0,
          0,
          0,
          0,
          0,
          0,
          0,
          0,
          0
         ],
         "open": [
          0,
          0,
          0.2,
          0,
          0.14285714285714285,
          0.3333333333333333,
          0.4,
          0.5714285714285714,
          0,
          0.1111111111111111,
          0.42105263157894735,
          0.5,
          0.6875,
          0.8,
          1,
          0,
          0,
          0.16666666666666666,
          0.4,
          0.6666666666666666,
          0.8181818181818182,
          1,
          0,
          0.10714285714285714,
          0.3333333333333333,
          0.4444444444444444,
          0.6153846153846154,
          0.75,
          1,
          0,
          0.25,
          0.4117647058823529,
          0.5,
          0.6666666666666666,
          0.8,
          1,
          0.4,
          0.6666666666666666,
          0.8333333333333334,
          1,
          0.8571428571428571,
          1
         ],
         "type": "candlestick",
         "x": [
          0,
          1,
          2,
          3,
          4,
          5,
          6,
          7,
          8,
          9,
          10,
          11,
          12,
          13,
          14,
          15,
          16,
          17,
          18,
          19,
          20,
          21,
          22,
          23,
          24,
          25,
          26,
          27,
          28,
          29,
          30,
          31,
          32,
          33,
          34,
          35,
          36,
          37,
          38,
          39,
          40,
          41
         ]
        }
       ],
       "layout": {
        "template": {
         "data": {
          "bar": [
           {
            "error_x": {
             "color": "#2a3f5f"
            },
            "error_y": {
             "color": "#2a3f5f"
            },
            "marker": {
             "line": {
              "color": "#E5ECF6",
              "width": 0.5
             },
             "pattern": {
              "fillmode": "overlay",
              "size": 10,
              "solidity": 0.2
             }
            },
            "type": "bar"
           }
          ],
          "barpolar": [
           {
            "marker": {
             "line": {
              "color": "#E5ECF6",
              "width": 0.5
             },
             "pattern": {
              "fillmode": "overlay",
              "size": 10,
              "solidity": 0.2
             }
            },
            "type": "barpolar"
           }
          ],
          "carpet": [
           {
            "aaxis": {
             "endlinecolor": "#2a3f5f",
             "gridcolor": "white",
             "linecolor": "white",
             "minorgridcolor": "white",
             "startlinecolor": "#2a3f5f"
            },
            "baxis": {
             "endlinecolor": "#2a3f5f",
             "gridcolor": "white",
             "linecolor": "white",
             "minorgridcolor": "white",
             "startlinecolor": "#2a3f5f"
            },
            "type": "carpet"
           }
          ],
          "choropleth": [
           {
            "colorbar": {
             "outlinewidth": 0,
             "ticks": ""
            },
            "type": "choropleth"
           }
          ],
          "contour": [
           {
            "colorbar": {
             "outlinewidth": 0,
             "ticks": ""
            },
            "colorscale": [
             [
              0,
              "#0d0887"
             ],
             [
              0.1111111111111111,
              "#46039f"
             ],
             [
              0.2222222222222222,
              "#7201a8"
             ],
             [
              0.3333333333333333,
              "#9c179e"
             ],
             [
              0.4444444444444444,
              "#bd3786"
             ],
             [
              0.5555555555555556,
              "#d8576b"
             ],
             [
              0.6666666666666666,
              "#ed7953"
             ],
             [
              0.7777777777777778,
              "#fb9f3a"
             ],
             [
              0.8888888888888888,
              "#fdca26"
             ],
             [
              1,
              "#f0f921"
             ]
            ],
            "type": "contour"
           }
          ],
          "contourcarpet": [
           {
            "colorbar": {
             "outlinewidth": 0,
             "ticks": ""
            },
            "type": "contourcarpet"
           }
          ],
          "heatmap": [
           {
            "colorbar": {
             "outlinewidth": 0,
             "ticks": ""
            },
            "colorscale": [
             [
              0,
              "#0d0887"
             ],
             [
              0.1111111111111111,
              "#46039f"
             ],
             [
              0.2222222222222222,
              "#7201a8"
             ],
             [
              0.3333333333333333,
              "#9c179e"
             ],
             [
              0.4444444444444444,
              "#bd3786"
             ],
             [
              0.5555555555555556,
              "#d8576b"
             ],
             [
              0.6666666666666666,
              "#ed7953"
             ],
             [
              0.7777777777777778,
              "#fb9f3a"
             ],
             [
              0.8888888888888888,
              "#fdca26"
             ],
             [
              1,
              "#f0f921"
             ]
            ],
            "type": "heatmap"
           }
          ],
          "heatmapgl": [
           {
            "colorbar": {
             "outlinewidth": 0,
             "ticks": ""
            },
            "colorscale": [
             [
              0,
              "#0d0887"
             ],
             [
              0.1111111111111111,
              "#46039f"
             ],
             [
              0.2222222222222222,
              "#7201a8"
             ],
             [
              0.3333333333333333,
              "#9c179e"
             ],
             [
              0.4444444444444444,
              "#bd3786"
             ],
             [
              0.5555555555555556,
              "#d8576b"
             ],
             [
              0.6666666666666666,
              "#ed7953"
             ],
             [
              0.7777777777777778,
              "#fb9f3a"
             ],
             [
              0.8888888888888888,
              "#fdca26"
             ],
             [
              1,
              "#f0f921"
             ]
            ],
            "type": "heatmapgl"
           }
          ],
          "histogram": [
           {
            "marker": {
             "pattern": {
              "fillmode": "overlay",
              "size": 10,
              "solidity": 0.2
             }
            },
            "type": "histogram"
           }
          ],
          "histogram2d": [
           {
            "colorbar": {
             "outlinewidth": 0,
             "ticks": ""
            },
            "colorscale": [
             [
              0,
              "#0d0887"
             ],
             [
              0.1111111111111111,
              "#46039f"
             ],
             [
              0.2222222222222222,
              "#7201a8"
             ],
             [
              0.3333333333333333,
              "#9c179e"
             ],
             [
              0.4444444444444444,
              "#bd3786"
             ],
             [
              0.5555555555555556,
              "#d8576b"
             ],
             [
              0.6666666666666666,
              "#ed7953"
             ],
             [
              0.7777777777777778,
              "#fb9f3a"
             ],
             [
              0.8888888888888888,
              "#fdca26"
             ],
             [
              1,
              "#f0f921"
             ]
            ],
            "type": "histogram2d"
           }
          ],
          "histogram2dcontour": [
           {
            "colorbar": {
             "outlinewidth": 0,
             "ticks": ""
            },
            "colorscale": [
             [
              0,
              "#0d0887"
             ],
             [
              0.1111111111111111,
              "#46039f"
             ],
             [
              0.2222222222222222,
              "#7201a8"
             ],
             [
              0.3333333333333333,
              "#9c179e"
             ],
             [
              0.4444444444444444,
              "#bd3786"
             ],
             [
              0.5555555555555556,
              "#d8576b"
             ],
             [
              0.6666666666666666,
              "#ed7953"
             ],
             [
              0.7777777777777778,
              "#fb9f3a"
             ],
             [
              0.8888888888888888,
              "#fdca26"
             ],
             [
              1,
              "#f0f921"
             ]
            ],
            "type": "histogram2dcontour"
           }
          ],
          "mesh3d": [
           {
            "colorbar": {
             "outlinewidth": 0,
             "ticks": ""
            },
            "type": "mesh3d"
           }
          ],
          "parcoords": [
           {
            "line": {
             "colorbar": {
              "outlinewidth": 0,
              "ticks": ""
             }
            },
            "type": "parcoords"
           }
          ],
          "pie": [
           {
            "automargin": true,
            "type": "pie"
           }
          ],
          "scatter": [
           {
            "fillpattern": {
             "fillmode": "overlay",
             "size": 10,
             "solidity": 0.2
            },
            "type": "scatter"
           }
          ],
          "scatter3d": [
           {
            "line": {
             "colorbar": {
              "outlinewidth": 0,
              "ticks": ""
             }
            },
            "marker": {
             "colorbar": {
              "outlinewidth": 0,
              "ticks": ""
             }
            },
            "type": "scatter3d"
           }
          ],
          "scattercarpet": [
           {
            "marker": {
             "colorbar": {
              "outlinewidth": 0,
              "ticks": ""
             }
            },
            "type": "scattercarpet"
           }
          ],
          "scattergeo": [
           {
            "marker": {
             "colorbar": {
              "outlinewidth": 0,
              "ticks": ""
             }
            },
            "type": "scattergeo"
           }
          ],
          "scattergl": [
           {
            "marker": {
             "colorbar": {
              "outlinewidth": 0,
              "ticks": ""
             }
            },
            "type": "scattergl"
           }
          ],
          "scattermapbox": [
           {
            "marker": {
             "colorbar": {
              "outlinewidth": 0,
              "ticks": ""
             }
            },
            "type": "scattermapbox"
           }
          ],
          "scatterpolar": [
           {
            "marker": {
             "colorbar": {
              "outlinewidth": 0,
              "ticks": ""
             }
            },
            "type": "scatterpolar"
           }
          ],
          "scatterpolargl": [
           {
            "marker": {
             "colorbar": {
              "outlinewidth": 0,
              "ticks": ""
             }
            },
            "type": "scatterpolargl"
           }
          ],
          "scatterternary": [
           {
            "marker": {
             "colorbar": {
              "outlinewidth": 0,
              "ticks": ""
             }
            },
            "type": "scatterternary"
           }
          ],
          "surface": [
           {
            "colorbar": {
             "outlinewidth": 0,
             "ticks": ""
            },
            "colorscale": [
             [
              0,
              "#0d0887"
             ],
             [
              0.1111111111111111,
              "#46039f"
             ],
             [
              0.2222222222222222,
              "#7201a8"
             ],
             [
              0.3333333333333333,
              "#9c179e"
             ],
             [
              0.4444444444444444,
              "#bd3786"
             ],
             [
              0.5555555555555556,
              "#d8576b"
             ],
             [
              0.6666666666666666,
              "#ed7953"
             ],
             [
              0.7777777777777778,
              "#fb9f3a"
             ],
             [
              0.8888888888888888,
              "#fdca26"
             ],
             [
              1,
              "#f0f921"
             ]
            ],
            "type": "surface"
           }
          ],
          "table": [
           {
            "cells": {
             "fill": {
              "color": "#EBF0F8"
             },
             "line": {
              "color": "white"
             }
            },
            "header": {
             "fill": {
              "color": "#C8D4E3"
             },
             "line": {
              "color": "white"
             }
            },
            "type": "table"
           }
          ]
         },
         "layout": {
          "annotationdefaults": {
           "arrowcolor": "#2a3f5f",
           "arrowhead": 0,
           "arrowwidth": 1
          },
          "autotypenumbers": "strict",
          "coloraxis": {
           "colorbar": {
            "outlinewidth": 0,
            "ticks": ""
           }
          },
          "colorscale": {
           "diverging": [
            [
             0,
             "#8e0152"
            ],
            [
             0.1,
             "#c51b7d"
            ],
            [
             0.2,
             "#de77ae"
            ],
            [
             0.3,
             "#f1b6da"
            ],
            [
             0.4,
             "#fde0ef"
            ],
            [
             0.5,
             "#f7f7f7"
            ],
            [
             0.6,
             "#e6f5d0"
            ],
            [
             0.7,
             "#b8e186"
            ],
            [
             0.8,
             "#7fbc41"
            ],
            [
             0.9,
             "#4d9221"
            ],
            [
             1,
             "#276419"
            ]
           ],
           "sequential": [
            [
             0,
             "#0d0887"
            ],
            [
             0.1111111111111111,
             "#46039f"
            ],
            [
             0.2222222222222222,
             "#7201a8"
            ],
            [
             0.3333333333333333,
             "#9c179e"
            ],
            [
             0.4444444444444444,
             "#bd3786"
            ],
            [
             0.5555555555555556,
             "#d8576b"
            ],
            [
             0.6666666666666666,
             "#ed7953"
            ],
            [
             0.7777777777777778,
             "#fb9f3a"
            ],
            [
             0.8888888888888888,
             "#fdca26"
            ],
            [
             1,
             "#f0f921"
            ]
           ],
           "sequentialminus": [
            [
             0,
             "#0d0887"
            ],
            [
             0.1111111111111111,
             "#46039f"
            ],
            [
             0.2222222222222222,
             "#7201a8"
            ],
            [
             0.3333333333333333,
             "#9c179e"
            ],
            [
             0.4444444444444444,
             "#bd3786"
            ],
            [
             0.5555555555555556,
             "#d8576b"
            ],
            [
             0.6666666666666666,
             "#ed7953"
            ],
            [
             0.7777777777777778,
             "#fb9f3a"
            ],
            [
             0.8888888888888888,
             "#fdca26"
            ],
            [
             1,
             "#f0f921"
            ]
           ]
          },
          "colorway": [
           "#636efa",
           "#EF553B",
           "#00cc96",
           "#ab63fa",
           "#FFA15A",
           "#19d3f3",
           "#FF6692",
           "#B6E880",
           "#FF97FF",
           "#FECB52"
          ],
          "font": {
           "color": "#2a3f5f"
          },
          "geo": {
           "bgcolor": "white",
           "lakecolor": "white",
           "landcolor": "#E5ECF6",
           "showlakes": true,
           "showland": true,
           "subunitcolor": "white"
          },
          "hoverlabel": {
           "align": "left"
          },
          "hovermode": "closest",
          "mapbox": {
           "style": "light"
          },
          "paper_bgcolor": "white",
          "plot_bgcolor": "#E5ECF6",
          "polar": {
           "angularaxis": {
            "gridcolor": "white",
            "linecolor": "white",
            "ticks": ""
           },
           "bgcolor": "#E5ECF6",
           "radialaxis": {
            "gridcolor": "white",
            "linecolor": "white",
            "ticks": ""
           }
          },
          "scene": {
           "xaxis": {
            "backgroundcolor": "#E5ECF6",
            "gridcolor": "white",
            "gridwidth": 2,
            "linecolor": "white",
            "showbackground": true,
            "ticks": "",
            "zerolinecolor": "white"
           },
           "yaxis": {
            "backgroundcolor": "#E5ECF6",
            "gridcolor": "white",
            "gridwidth": 2,
            "linecolor": "white",
            "showbackground": true,
            "ticks": "",
            "zerolinecolor": "white"
           },
           "zaxis": {
            "backgroundcolor": "#E5ECF6",
            "gridcolor": "white",
            "gridwidth": 2,
            "linecolor": "white",
            "showbackground": true,
            "ticks": "",
            "zerolinecolor": "white"
           }
          },
          "shapedefaults": {
           "line": {
            "color": "#2a3f5f"
           }
          },
          "ternary": {
           "aaxis": {
            "gridcolor": "white",
            "linecolor": "white",
            "ticks": ""
           },
           "baxis": {
            "gridcolor": "white",
            "linecolor": "white",
            "ticks": ""
           },
           "bgcolor": "#E5ECF6",
           "caxis": {
            "gridcolor": "white",
            "linecolor": "white",
            "ticks": ""
           }
          },
          "title": {
           "x": 0.05
          },
          "xaxis": {
           "automargin": true,
           "gridcolor": "white",
           "linecolor": "white",
           "ticks": "",
           "title": {
            "standoff": 15
           },
           "zerolinecolor": "white",
           "zerolinewidth": 2
          },
          "yaxis": {
           "automargin": true,
           "gridcolor": "white",
           "linecolor": "white",
           "ticks": "",
           "title": {
            "standoff": 15
           },
           "zerolinecolor": "white",
           "zerolinewidth": 2
          }
         }
        },
        "xaxis": {
         "rangeslider": {
          "visible": false
         }
        }
       }
      }
     },
     "metadata": {},
     "output_type": "display_data"
    }
   ],
   "source": [
    "plot_sample(MinMaxNorm((torch.tensor(df1.groupby('codes').sample().iloc[:,:4].values)),1))\n"
   ]
  }
 ],
 "metadata": {
  "kernelspec": {
   "display_name": "Python 3",
   "language": "python",
   "name": "python3"
  },
  "language_info": {
   "codemirror_mode": {
    "name": "ipython",
    "version": 3
   },
   "file_extension": ".py",
   "mimetype": "text/x-python",
   "name": "python",
   "nbconvert_exporter": "python",
   "pygments_lexer": "ipython3",
   "version": "3.11.4"
  },
  "orig_nbformat": 4
 },
 "nbformat": 4,
 "nbformat_minor": 2
}
